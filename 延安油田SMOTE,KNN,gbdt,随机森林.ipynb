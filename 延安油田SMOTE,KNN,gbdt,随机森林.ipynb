{
  "nbformat": 4,
  "nbformat_minor": 0,
  "metadata": {
    "anaconda-cloud": {},
    "kernelspec": {
      "display_name": "Python 3",
      "language": "python",
      "name": "python3"
    },
    "language_info": {
      "codemirror_mode": {
        "name": "ipython",
        "version": 3
      },
      "file_extension": ".py",
      "mimetype": "text/x-python",
      "name": "python",
      "nbconvert_exporter": "python",
      "pygments_lexer": "ipython3",
      "version": "3.5.2"
    },
    "colab": {
      "name": "延安油田SMOTE,KNN,gbdt,随机森林",
      "provenance": [],
      "collapsed_sections": [],
      "toc_visible": true,
      "include_colab_link": true
    }
  },
  "cells": [
    {
      "cell_type": "markdown",
      "metadata": {
        "id": "view-in-github",
        "colab_type": "text"
      },
      "source": [
        "<a href=\"https://colab.research.google.com/github/sunyingjian/-Logging-related-network/blob/master/%E5%BB%B6%E5%AE%89%E6%B2%B9%E7%94%B0SMOTE%2CKNN%2Cgbdt%2C%E9%9A%8F%E6%9C%BA%E6%A3%AE%E6%9E%97.ipynb\" target=\"_parent\"><img src=\"https://colab.research.google.com/assets/colab-badge.svg\" alt=\"Open In Colab\"/></a>"
      ]
    },
    {
      "cell_type": "markdown",
      "metadata": {
        "id": "Cqy3vXXOMI06",
        "colab_type": "text"
      },
      "source": [
        "### <font size=5px color=\"red\">✦ *Google Colab 突破90分钟自动断开:</font>\n",
        "<p><font size=3px > 每60分钟自动运行代码以刷新90分钟断开限制. 打开 developer-settings (在你的浏览器) 快速健 Ctrl+Shift+I 然后按console 输入以下代码 Enter. ( mac 按 Option+Command+I)</p><b>复制以下隐藏代码粉贴在浏览器console！！不要关闭浏览器以免失效</b>"
      ]
    },
    {
      "cell_type": "markdown",
      "metadata": {
        "id": "3Z8cK8h2Avbv",
        "colab_type": "text"
      },
      "source": [
        "<code>function ClickConnect(){\n",
        "console.log(\"Working\"); \n",
        "document.querySelector(\"colab-connect-button\").click() \n",
        "}setInterval(ClickConnect,6000)</code>"
      ]
    },
    {
      "cell_type": "code",
      "metadata": {
        "id": "jtClEMAMLVHw",
        "colab_type": "code",
        "cellView": "both",
        "colab": {
          "base_uri": "https://localhost:8080/",
          "height": 35
        },
        "outputId": "09125e7c-eef2-4197-d370-f3dcf3cf8d0e"
      },
      "source": [
        "#@markdown <h3>← 输入了代码后运行以防止断开</h>\n",
        "\n",
        "\n",
        "import IPython\n",
        "from google.colab import output\n",
        "\n",
        "display(IPython.display.Javascript('''\n",
        " function ClickConnect(){\n",
        "   btn = document.querySelector(\"colab-connect-button\")\n",
        "   if (btn != null){\n",
        "     console.log(\"Click colab-connect-button\"); \n",
        "     btn.click() \n",
        "     }\n",
        "   \n",
        "   btn = document.getElementById('ok')\n",
        "   if (btn != null){\n",
        "     console.log(\"Click reconnect\"); \n",
        "     btn.click() \n",
        "     }\n",
        "  }\n",
        "  \n",
        "setInterval(ClickConnect,60000)\n",
        "'''))\n",
        "\n",
        "print(\"Done.\")"
      ],
      "execution_count": null,
      "outputs": [
        {
          "output_type": "display_data",
          "data": {
            "application/javascript": [
              "\n",
              " function ClickConnect(){\n",
              "   btn = document.querySelector(\"colab-connect-button\")\n",
              "   if (btn != null){\n",
              "     console.log(\"Click colab-connect-button\"); \n",
              "     btn.click() \n",
              "     }\n",
              "   \n",
              "   btn = document.getElementById('ok')\n",
              "   if (btn != null){\n",
              "     console.log(\"Click reconnect\"); \n",
              "     btn.click() \n",
              "     }\n",
              "  }\n",
              "  \n",
              "setInterval(ClickConnect,60000)\n"
            ],
            "text/plain": [
              "<IPython.core.display.Javascript object>"
            ]
          },
          "metadata": {
            "tags": []
          }
        },
        {
          "output_type": "stream",
          "text": [
            "Done.\n"
          ],
          "name": "stdout"
        }
      ]
    },
    {
      "cell_type": "code",
      "metadata": {
        "id": "aFEXKoC6o2wB",
        "colab_type": "code",
        "colab": {
          "base_uri": "https://localhost:8080/",
          "height": 121
        },
        "outputId": "343847a0-527f-4dce-dd94-4e367867c118"
      },
      "source": [
        "! git clone https://github.com/sunyingjian/numpy-.git"
      ],
      "execution_count": null,
      "outputs": [
        {
          "output_type": "stream",
          "text": [
            "Cloning into 'numpy-'...\n",
            "remote: Enumerating objects: 56, done.\u001b[K\n",
            "remote: Counting objects:   1% (1/56)\u001b[K\rremote: Counting objects:   3% (2/56)\u001b[K\rremote: Counting objects:   5% (3/56)\u001b[K\rremote: Counting objects:   7% (4/56)\u001b[K\rremote: Counting objects:   8% (5/56)\u001b[K\rremote: Counting objects:  10% (6/56)\u001b[K\rremote: Counting objects:  12% (7/56)\u001b[K\rremote: Counting objects:  14% (8/56)\u001b[K\rremote: Counting objects:  16% (9/56)\u001b[K\rremote: Counting objects:  17% (10/56)\u001b[K\rremote: Counting objects:  19% (11/56)\u001b[K\rremote: Counting objects:  21% (12/56)\u001b[K\rremote: Counting objects:  23% (13/56)\u001b[K\rremote: Counting objects:  25% (14/56)\u001b[K\rremote: Counting objects:  26% (15/56)\u001b[K\rremote: Counting objects:  28% (16/56)\u001b[K\rremote: Counting objects:  30% (17/56)\u001b[K\rremote: Counting objects:  32% (18/56)\u001b[K\rremote: Counting objects:  33% (19/56)\u001b[K\rremote: Counting objects:  35% (20/56)\u001b[K\rremote: Counting objects:  37% (21/56)\u001b[K\rremote: Counting objects:  39% (22/56)\u001b[K\rremote: Counting objects:  41% (23/56)\u001b[K\rremote: Counting objects:  42% (24/56)\u001b[K\rremote: Counting objects:  44% (25/56)\u001b[K\rremote: Counting objects:  46% (26/56)\u001b[K\rremote: Counting objects:  48% (27/56)\u001b[K\rremote: Counting objects:  50% (28/56)\u001b[K\rremote: Counting objects:  51% (29/56)\u001b[K\rremote: Counting objects:  53% (30/56)\u001b[K\rremote: Counting objects:  55% (31/56)\u001b[K\rremote: Counting objects:  57% (32/56)\u001b[K\rremote: Counting objects:  58% (33/56)\u001b[K\rremote: Counting objects:  60% (34/56)\u001b[K\rremote: Counting objects:  62% (35/56)\u001b[K\rremote: Counting objects:  64% (36/56)\u001b[K\rremote: Counting objects:  66% (37/56)\u001b[K\rremote: Counting objects:  67% (38/56)\u001b[K\rremote: Counting objects:  69% (39/56)\u001b[K\rremote: Counting objects:  71% (40/56)\u001b[K\rremote: Counting objects:  73% (41/56)\u001b[K\rremote: Counting objects:  75% (42/56)\u001b[K\rremote: Counting objects:  76% (43/56)\u001b[K\rremote: Counting objects:  78% (44/56)\u001b[K\rremote: Counting objects:  80% (45/56)\u001b[K\rremote: Counting objects:  82% (46/56)\u001b[K\rremote: Counting objects:  83% (47/56)\u001b[K\rremote: Counting objects:  85% (48/56)\u001b[K\rremote: Counting objects:  87% (49/56)\u001b[K\rremote: Counting objects:  89% (50/56)\u001b[K\rremote: Counting objects:  91% (51/56)\u001b[K\rremote: Counting objects:  92% (52/56)\u001b[K\rremote: Counting objects:  94% (53/56)\u001b[K\rremote: Counting objects:  96% (54/56)\u001b[K\rremote: Counting objects:  98% (55/56)\u001b[K\rremote: Counting objects: 100% (56/56)\u001b[K\rremote: Counting objects: 100% (56/56), done.\u001b[K\n",
            "remote: Compressing objects: 100% (56/56), done.\u001b[K\n",
            "remote: Total 56 (delta 20), reused 0 (delta 0), pack-reused 0\u001b[K\n",
            "Unpacking objects: 100% (56/56), done.\n"
          ],
          "name": "stdout"
        }
      ]
    },
    {
      "cell_type": "code",
      "metadata": {
        "id": "1rJBO73lpHA7",
        "colab_type": "code",
        "colab": {
          "base_uri": "https://localhost:8080/",
          "height": 124
        },
        "outputId": "86512e01-1b90-4d89-c888-6444d28b1de7"
      },
      "source": [
        "import os\n",
        "from google.colab import drive\n",
        "drive.mount('/content/drive')\n",
        "path = \"/content/numpy-/3345train data.csv\""
      ],
      "execution_count": null,
      "outputs": [
        {
          "output_type": "stream",
          "text": [
            "Go to this URL in a browser: https://accounts.google.com/o/oauth2/auth?client_id=947318989803-6bn6qk8qdgf4n4g3pfee6491hc0brc4i.apps.googleusercontent.com&redirect_uri=urn%3aietf%3awg%3aoauth%3a2.0%3aoob&response_type=code&scope=email%20https%3a%2f%2fwww.googleapis.com%2fauth%2fdocs.test%20https%3a%2f%2fwww.googleapis.com%2fauth%2fdrive%20https%3a%2f%2fwww.googleapis.com%2fauth%2fdrive.photos.readonly%20https%3a%2f%2fwww.googleapis.com%2fauth%2fpeopleapi.readonly\n",
            "\n",
            "Enter your authorization code:\n",
            "··········\n",
            "Mounted at /content/drive\n"
          ],
          "name": "stdout"
        }
      ]
    },
    {
      "cell_type": "code",
      "metadata": {
        "id": "s5phM8LfoxvP",
        "colab_type": "code",
        "colab": {
          "base_uri": "https://localhost:8080/",
          "height": 407
        },
        "outputId": "085d6f7f-f36b-45e0-e883-5c6ed62cc067"
      },
      "source": [
        "%matplotlib inline\n",
        "#%matplotlib inline 可以在Ipython编译器里直接使用，功能是可以内嵌绘图，并且可以省略掉plt.show()这一步。\n",
        "import pandas as pd\n",
        "import numpy as np\n",
        "import matplotlib as mpl\n",
        "import matplotlib.pyplot as plt\n",
        "import matplotlib.colors as colors\n",
        "from mpl_toolkits.axes_grid1 import make_axes_locatable\n",
        "from pandas import set_option\n",
        "set_option(\"display.max_rows\", 10)#设置要显示的默认行数，显示的最大行数是10\n",
        "pd.options.mode.chained_assignment = None #为了在增加列表行数的时候防止出现setting with copy warning\n",
        "filename = 'facies_vectors.csv'\n",
        "training_data = pd.read_csv('/content/numpy-/3345train data.csv')\n",
        "training_data\n",
        "testing_data = pd.read_csv('/content/numpy-/3345test_data.csv')\n",
        "testing_data"
      ],
      "execution_count": null,
      "outputs": [
        {
          "output_type": "execute_result",
          "data": {
            "text/html": [
              "<div>\n",
              "<style scoped>\n",
              "    .dataframe tbody tr th:only-of-type {\n",
              "        vertical-align: middle;\n",
              "    }\n",
              "\n",
              "    .dataframe tbody tr th {\n",
              "        vertical-align: top;\n",
              "    }\n",
              "\n",
              "    .dataframe thead th {\n",
              "        text-align: right;\n",
              "    }\n",
              "</style>\n",
              "<table border=\"1\" class=\"dataframe\">\n",
              "  <thead>\n",
              "    <tr style=\"text-align: right;\">\n",
              "      <th></th>\n",
              "      <th>AC</th>\n",
              "      <th>CAL</th>\n",
              "      <th>GR</th>\n",
              "      <th>K</th>\n",
              "      <th>RD</th>\n",
              "      <th>SP</th>\n",
              "      <th>Core Lithology</th>\n",
              "    </tr>\n",
              "  </thead>\n",
              "  <tbody>\n",
              "    <tr>\n",
              "      <th>0</th>\n",
              "      <td>0.038756</td>\n",
              "      <td>0.026970</td>\n",
              "      <td>0.094776</td>\n",
              "      <td>0.112543</td>\n",
              "      <td>0.001420</td>\n",
              "      <td>0.614504</td>\n",
              "      <td>5</td>\n",
              "    </tr>\n",
              "    <tr>\n",
              "      <th>1</th>\n",
              "      <td>0.347382</td>\n",
              "      <td>0.090194</td>\n",
              "      <td>0.145150</td>\n",
              "      <td>0.202335</td>\n",
              "      <td>0.002744</td>\n",
              "      <td>0.339568</td>\n",
              "      <td>7</td>\n",
              "    </tr>\n",
              "    <tr>\n",
              "      <th>2</th>\n",
              "      <td>0.218400</td>\n",
              "      <td>0.059510</td>\n",
              "      <td>0.252165</td>\n",
              "      <td>0.711295</td>\n",
              "      <td>0.003874</td>\n",
              "      <td>0.918567</td>\n",
              "      <td>3</td>\n",
              "    </tr>\n",
              "    <tr>\n",
              "      <th>3</th>\n",
              "      <td>0.366064</td>\n",
              "      <td>0.082147</td>\n",
              "      <td>0.149304</td>\n",
              "      <td>0.201731</td>\n",
              "      <td>0.003290</td>\n",
              "      <td>0.343180</td>\n",
              "      <td>7</td>\n",
              "    </tr>\n",
              "    <tr>\n",
              "      <th>4</th>\n",
              "      <td>0.291877</td>\n",
              "      <td>0.079981</td>\n",
              "      <td>0.141782</td>\n",
              "      <td>0.289309</td>\n",
              "      <td>0.003455</td>\n",
              "      <td>0.344605</td>\n",
              "      <td>7</td>\n",
              "    </tr>\n",
              "    <tr>\n",
              "      <th>...</th>\n",
              "      <td>...</td>\n",
              "      <td>...</td>\n",
              "      <td>...</td>\n",
              "      <td>...</td>\n",
              "      <td>...</td>\n",
              "      <td>...</td>\n",
              "      <td>...</td>\n",
              "    </tr>\n",
              "    <tr>\n",
              "      <th>361</th>\n",
              "      <td>0.016947</td>\n",
              "      <td>0.138827</td>\n",
              "      <td>0.118400</td>\n",
              "      <td>0.358567</td>\n",
              "      <td>0.281687</td>\n",
              "      <td>0.302936</td>\n",
              "      <td>6</td>\n",
              "    </tr>\n",
              "    <tr>\n",
              "      <th>362</th>\n",
              "      <td>0.131043</td>\n",
              "      <td>0.069016</td>\n",
              "      <td>0.029354</td>\n",
              "      <td>0.060197</td>\n",
              "      <td>0.282093</td>\n",
              "      <td>0.253809</td>\n",
              "      <td>3</td>\n",
              "    </tr>\n",
              "    <tr>\n",
              "      <th>363</th>\n",
              "      <td>0.036182</td>\n",
              "      <td>0.032010</td>\n",
              "      <td>0.030090</td>\n",
              "      <td>0.071069</td>\n",
              "      <td>0.359737</td>\n",
              "      <td>0.435486</td>\n",
              "      <td>5</td>\n",
              "    </tr>\n",
              "    <tr>\n",
              "      <th>364</th>\n",
              "      <td>0.014562</td>\n",
              "      <td>0.127332</td>\n",
              "      <td>0.035014</td>\n",
              "      <td>0.178579</td>\n",
              "      <td>0.803566</td>\n",
              "      <td>0.311641</td>\n",
              "      <td>6</td>\n",
              "    </tr>\n",
              "    <tr>\n",
              "      <th>365</th>\n",
              "      <td>0.014427</td>\n",
              "      <td>0.134185</td>\n",
              "      <td>0.033460</td>\n",
              "      <td>0.186430</td>\n",
              "      <td>0.891134</td>\n",
              "      <td>0.311652</td>\n",
              "      <td>6</td>\n",
              "    </tr>\n",
              "  </tbody>\n",
              "</table>\n",
              "<p>366 rows × 7 columns</p>\n",
              "</div>"
            ],
            "text/plain": [
              "           AC       CAL        GR         K        RD        SP  Core Lithology\n",
              "0    0.038756  0.026970  0.094776  0.112543  0.001420  0.614504               5\n",
              "1    0.347382  0.090194  0.145150  0.202335  0.002744  0.339568               7\n",
              "2    0.218400  0.059510  0.252165  0.711295  0.003874  0.918567               3\n",
              "3    0.366064  0.082147  0.149304  0.201731  0.003290  0.343180               7\n",
              "4    0.291877  0.079981  0.141782  0.289309  0.003455  0.344605               7\n",
              "..        ...       ...       ...       ...       ...       ...             ...\n",
              "361  0.016947  0.138827  0.118400  0.358567  0.281687  0.302936               6\n",
              "362  0.131043  0.069016  0.029354  0.060197  0.282093  0.253809               3\n",
              "363  0.036182  0.032010  0.030090  0.071069  0.359737  0.435486               5\n",
              "364  0.014562  0.127332  0.035014  0.178579  0.803566  0.311641               6\n",
              "365  0.014427  0.134185  0.033460  0.186430  0.891134  0.311652               6\n",
              "\n",
              "[366 rows x 7 columns]"
            ]
          },
          "metadata": {
            "tags": []
          },
          "execution_count": 5
        }
      ]
    },
    {
      "cell_type": "markdown",
      "metadata": {
        "id": "DkIbFPdg24i1",
        "colab_type": "text"
      },
      "source": [
        "#训练集处理"
      ]
    },
    {
      "cell_type": "code",
      "metadata": {
        "id": "YAVy0Tvfoxvh",
        "colab_type": "code",
        "colab": {
          "base_uri": "https://localhost:8080/",
          "height": 325
        },
        "outputId": "e86a8d4f-f7aa-423b-9a9d-ab02893f0cd9"
      },
      "source": [
        "# 1=粗砂岩  2=中砂岩   3=细砂岩\n",
        "# 4=粉砂岩 5=白云岩 6=石灰岩 7=泥岩\n",
        "\n",
        "facies_labels = ['CS', 'MS', 'FS', 'SS', 'DM',\n",
        "                 'LS', 'MDS']\n",
        "for ind, label in enumerate(facies_labels):\n",
        "    facies_color_map[label] = facies_colors[ind]\n",
        "training_data.describe()"
      ],
      "execution_count": null,
      "outputs": [
        {
          "output_type": "execute_result",
          "data": {
            "text/html": [
              "<div>\n",
              "<style scoped>\n",
              "    .dataframe tbody tr th:only-of-type {\n",
              "        vertical-align: middle;\n",
              "    }\n",
              "\n",
              "    .dataframe tbody tr th {\n",
              "        vertical-align: top;\n",
              "    }\n",
              "\n",
              "    .dataframe thead th {\n",
              "        text-align: right;\n",
              "    }\n",
              "</style>\n",
              "<table border=\"1\" class=\"dataframe\">\n",
              "  <thead>\n",
              "    <tr style=\"text-align: right;\">\n",
              "      <th></th>\n",
              "      <th>AC</th>\n",
              "      <th>CAL</th>\n",
              "      <th>GR</th>\n",
              "      <th>K</th>\n",
              "      <th>RD</th>\n",
              "      <th>SP</th>\n",
              "      <th>Core Lithology</th>\n",
              "    </tr>\n",
              "  </thead>\n",
              "  <tbody>\n",
              "    <tr>\n",
              "      <th>count</th>\n",
              "      <td>3.345000e+03</td>\n",
              "      <td>3.345000e+03</td>\n",
              "      <td>3.345000e+03</td>\n",
              "      <td>3.345000e+03</td>\n",
              "      <td>3.345000e+03</td>\n",
              "      <td>3345.000000</td>\n",
              "      <td>3345.000000</td>\n",
              "    </tr>\n",
              "    <tr>\n",
              "      <th>mean</th>\n",
              "      <td>2.107992e-01</td>\n",
              "      <td>1.450162e-01</td>\n",
              "      <td>1.662901e-01</td>\n",
              "      <td>3.464980e-01</td>\n",
              "      <td>4.917120e-02</td>\n",
              "      <td>0.418110</td>\n",
              "      <td>4.221525</td>\n",
              "    </tr>\n",
              "    <tr>\n",
              "      <th>std</th>\n",
              "      <td>1.099814e-01</td>\n",
              "      <td>1.353280e-01</td>\n",
              "      <td>1.036918e-01</td>\n",
              "      <td>1.808527e-01</td>\n",
              "      <td>8.719010e-02</td>\n",
              "      <td>0.196548</td>\n",
              "      <td>2.079667</td>\n",
              "    </tr>\n",
              "    <tr>\n",
              "      <th>min</th>\n",
              "      <td>1.000000e-07</td>\n",
              "      <td>1.000000e-08</td>\n",
              "      <td>1.000000e-07</td>\n",
              "      <td>1.000000e-07</td>\n",
              "      <td>1.000000e-09</td>\n",
              "      <td>-0.062739</td>\n",
              "      <td>1.000000</td>\n",
              "    </tr>\n",
              "    <tr>\n",
              "      <th>25%</th>\n",
              "      <td>1.594008e-01</td>\n",
              "      <td>5.225926e-02</td>\n",
              "      <td>8.778840e-02</td>\n",
              "      <td>2.079726e-01</td>\n",
              "      <td>1.270254e-02</td>\n",
              "      <td>0.325241</td>\n",
              "      <td>2.000000</td>\n",
              "    </tr>\n",
              "    <tr>\n",
              "      <th>50%</th>\n",
              "      <td>2.124234e-01</td>\n",
              "      <td>9.779821e-02</td>\n",
              "      <td>1.520483e-01</td>\n",
              "      <td>3.352124e-01</td>\n",
              "      <td>2.403313e-02</td>\n",
              "      <td>0.384527</td>\n",
              "      <td>4.000000</td>\n",
              "    </tr>\n",
              "    <tr>\n",
              "      <th>75%</th>\n",
              "      <td>2.574892e-01</td>\n",
              "      <td>1.850738e-01</td>\n",
              "      <td>2.359244e-01</td>\n",
              "      <td>4.811758e-01</td>\n",
              "      <td>4.815465e-02</td>\n",
              "      <td>0.439047</td>\n",
              "      <td>7.000000</td>\n",
              "    </tr>\n",
              "    <tr>\n",
              "      <th>max</th>\n",
              "      <td>1.000000e+00</td>\n",
              "      <td>1.000000e+00</td>\n",
              "      <td>1.000000e+00</td>\n",
              "      <td>1.000000e+00</td>\n",
              "      <td>1.000000e+00</td>\n",
              "      <td>1.000000</td>\n",
              "      <td>7.000000</td>\n",
              "    </tr>\n",
              "  </tbody>\n",
              "</table>\n",
              "</div>"
            ],
            "text/plain": [
              "                 AC           CAL  ...           SP  Core Lithology\n",
              "count  3.345000e+03  3.345000e+03  ...  3345.000000     3345.000000\n",
              "mean   2.107992e-01  1.450162e-01  ...     0.418110        4.221525\n",
              "std    1.099814e-01  1.353280e-01  ...     0.196548        2.079667\n",
              "min    1.000000e-07  1.000000e-08  ...    -0.062739        1.000000\n",
              "25%    1.594008e-01  5.225926e-02  ...     0.325241        2.000000\n",
              "50%    2.124234e-01  9.779821e-02  ...     0.384527        4.000000\n",
              "75%    2.574892e-01  1.850738e-01  ...     0.439047        7.000000\n",
              "max    1.000000e+00  1.000000e+00  ...     1.000000        7.000000\n",
              "\n",
              "[8 rows x 7 columns]"
            ]
          },
          "metadata": {
            "tags": []
          },
          "execution_count": 46
        }
      ]
    },
    {
      "cell_type": "markdown",
      "metadata": {
        "id": "AicpZIfj28MY",
        "colab_type": "text"
      },
      "source": [
        "#测试集处理"
      ]
    },
    {
      "cell_type": "code",
      "metadata": {
        "id": "A7kUM7h32-O4",
        "colab_type": "code",
        "colab": {
          "base_uri": "https://localhost:8080/",
          "height": 325
        },
        "outputId": "9bc727e2-0779-4412-cee9-2a12d32c404a"
      },
      "source": [
        "# 1=粗砂岩  2=中砂岩   3=细砂岩\n",
        "# 4=粉砂岩 5=白云岩 6=石灰岩 7=泥岩\n",
        "\n",
        "facies_labels = ['CS', 'MS', 'FS', 'SS', 'DM',\n",
        "                 'LS', 'MDS']\n",
        "for ind, label in enumerate(facies_labels):\n",
        "    facies_color_map[label] = facies_colors[ind]\n",
        "testing_data.describe()"
      ],
      "execution_count": null,
      "outputs": [
        {
          "output_type": "execute_result",
          "data": {
            "text/html": [
              "<div>\n",
              "<style scoped>\n",
              "    .dataframe tbody tr th:only-of-type {\n",
              "        vertical-align: middle;\n",
              "    }\n",
              "\n",
              "    .dataframe tbody tr th {\n",
              "        vertical-align: top;\n",
              "    }\n",
              "\n",
              "    .dataframe thead th {\n",
              "        text-align: right;\n",
              "    }\n",
              "</style>\n",
              "<table border=\"1\" class=\"dataframe\">\n",
              "  <thead>\n",
              "    <tr style=\"text-align: right;\">\n",
              "      <th></th>\n",
              "      <th>AC</th>\n",
              "      <th>CAL</th>\n",
              "      <th>GR</th>\n",
              "      <th>K</th>\n",
              "      <th>RD</th>\n",
              "      <th>SP</th>\n",
              "      <th>Core Lithology</th>\n",
              "    </tr>\n",
              "  </thead>\n",
              "  <tbody>\n",
              "    <tr>\n",
              "      <th>count</th>\n",
              "      <td>366.000000</td>\n",
              "      <td>366.000000</td>\n",
              "      <td>366.000000</td>\n",
              "      <td>366.000000</td>\n",
              "      <td>366.000000</td>\n",
              "      <td>366.000000</td>\n",
              "      <td>366.000000</td>\n",
              "    </tr>\n",
              "    <tr>\n",
              "      <th>mean</th>\n",
              "      <td>0.214074</td>\n",
              "      <td>0.148747</td>\n",
              "      <td>0.147995</td>\n",
              "      <td>0.330942</td>\n",
              "      <td>0.046567</td>\n",
              "      <td>0.389129</td>\n",
              "      <td>4.215847</td>\n",
              "    </tr>\n",
              "    <tr>\n",
              "      <th>std</th>\n",
              "      <td>0.108781</td>\n",
              "      <td>0.144160</td>\n",
              "      <td>0.087543</td>\n",
              "      <td>0.181384</td>\n",
              "      <td>0.080542</td>\n",
              "      <td>0.196271</td>\n",
              "      <td>2.072619</td>\n",
              "    </tr>\n",
              "    <tr>\n",
              "      <th>min</th>\n",
              "      <td>0.003611</td>\n",
              "      <td>0.007118</td>\n",
              "      <td>0.005029</td>\n",
              "      <td>0.025971</td>\n",
              "      <td>0.001420</td>\n",
              "      <td>-0.061365</td>\n",
              "      <td>1.000000</td>\n",
              "    </tr>\n",
              "    <tr>\n",
              "      <th>25%</th>\n",
              "      <td>0.162638</td>\n",
              "      <td>0.052989</td>\n",
              "      <td>0.079442</td>\n",
              "      <td>0.194786</td>\n",
              "      <td>0.012828</td>\n",
              "      <td>0.317109</td>\n",
              "      <td>2.000000</td>\n",
              "    </tr>\n",
              "    <tr>\n",
              "      <th>50%</th>\n",
              "      <td>0.215371</td>\n",
              "      <td>0.098682</td>\n",
              "      <td>0.132807</td>\n",
              "      <td>0.302396</td>\n",
              "      <td>0.022275</td>\n",
              "      <td>0.379000</td>\n",
              "      <td>4.000000</td>\n",
              "    </tr>\n",
              "    <tr>\n",
              "      <th>75%</th>\n",
              "      <td>0.269240</td>\n",
              "      <td>0.179492</td>\n",
              "      <td>0.217013</td>\n",
              "      <td>0.456563</td>\n",
              "      <td>0.047410</td>\n",
              "      <td>0.435390</td>\n",
              "      <td>7.000000</td>\n",
              "    </tr>\n",
              "    <tr>\n",
              "      <th>max</th>\n",
              "      <td>0.713160</td>\n",
              "      <td>0.994694</td>\n",
              "      <td>0.483319</td>\n",
              "      <td>0.994363</td>\n",
              "      <td>0.891134</td>\n",
              "      <td>0.997070</td>\n",
              "      <td>7.000000</td>\n",
              "    </tr>\n",
              "  </tbody>\n",
              "</table>\n",
              "</div>"
            ],
            "text/plain": [
              "               AC         CAL  ...          SP  Core Lithology\n",
              "count  366.000000  366.000000  ...  366.000000      366.000000\n",
              "mean     0.214074    0.148747  ...    0.389129        4.215847\n",
              "std      0.108781    0.144160  ...    0.196271        2.072619\n",
              "min      0.003611    0.007118  ...   -0.061365        1.000000\n",
              "25%      0.162638    0.052989  ...    0.317109        2.000000\n",
              "50%      0.215371    0.098682  ...    0.379000        4.000000\n",
              "75%      0.269240    0.179492  ...    0.435390        7.000000\n",
              "max      0.713160    0.994694  ...    0.997070        7.000000\n",
              "\n",
              "[8 rows x 7 columns]"
            ]
          },
          "metadata": {
            "tags": []
          },
          "execution_count": 9
        }
      ]
    },
    {
      "cell_type": "code",
      "metadata": {
        "id": "a20k_2rQoxvy",
        "colab_type": "code",
        "colab": {
          "base_uri": "https://localhost:8080/",
          "height": 432
        },
        "outputId": "7662583a-143b-48dd-8903-b6a111bc6d15"
      },
      "source": [
        "#count the number of unique entries for each facies, sort them by facies number (instead of by number of entries)\n",
        "#计算每个相的唯一条目数，然后按相数（而不是条目数）对它们进行排序\n",
        "facies_counts = training_data['Core Lithology'].value_counts().sort_index()\n",
        "#use facies labels to index each count\n",
        "#使用相标签索引每个计数\n",
        "facies_counts.index = facies_labels\n",
        "\n",
        "facies_counts.plot(kind='bar',color=facies_colors, \n",
        "                   title='Distribution of Training Data by Facies')\n",
        "facies_counts"
      ],
      "execution_count": null,
      "outputs": [
        {
          "output_type": "execute_result",
          "data": {
            "text/plain": [
              "CS     194\n",
              "MS     710\n",
              "FS     751\n",
              "SS     166\n",
              "DM     482\n",
              "LS     114\n",
              "MDS    928\n",
              "Name: Core Lithology, dtype: int64"
            ]
          },
          "metadata": {
            "tags": []
          },
          "execution_count": 10
        },
        {
          "output_type": "display_data",
          "data": {
            "image/png": "[encoded data removed]",
            "text/plain": [
              "<Figure size 432x288 with 1 Axes>"
            ]
          },
          "metadata": {
            "tags": [],
            "needs_background": "light"
          }
        }
      ]
    },
    {
      "cell_type": "markdown",
      "metadata": {
        "id": "HeCzbkegoxv3",
        "colab_type": "text"
      },
      "source": [
        "##继续处理数据"
      ]
    },
    {
      "cell_type": "code",
      "metadata": {
        "scrolled": true,
        "id": "fdx8XRKqoxv3",
        "colab_type": "code",
        "colab": {
          "base_uri": "https://localhost:8080/",
          "height": 288
        },
        "outputId": "8e6e3f72-0ed2-4f87-a7fd-7719f6055b57"
      },
      "source": [
        "correct_facies_labels = training_data['Core Lithology'].values\n",
        "correct_facies_labels_test = testing_data['Core Lithology'].values\n",
        "feature_vectors = training_data.drop(['Core Lithology'], axis=1)\n",
        "feature_vectors_test = testing_data.drop(['Core Lithology'], axis=1)\n",
        "feature_vectors.describe()\n",
        "feature_vectors_test.describe()"
      ],
      "execution_count": null,
      "outputs": [
        {
          "output_type": "execute_result",
          "data": {
            "text/html": [
              "<div>\n",
              "<style scoped>\n",
              "    .dataframe tbody tr th:only-of-type {\n",
              "        vertical-align: middle;\n",
              "    }\n",
              "\n",
              "    .dataframe tbody tr th {\n",
              "        vertical-align: top;\n",
              "    }\n",
              "\n",
              "    .dataframe thead th {\n",
              "        text-align: right;\n",
              "    }\n",
              "</style>\n",
              "<table border=\"1\" class=\"dataframe\">\n",
              "  <thead>\n",
              "    <tr style=\"text-align: right;\">\n",
              "      <th></th>\n",
              "      <th>AC</th>\n",
              "      <th>CAL</th>\n",
              "      <th>GR</th>\n",
              "      <th>K</th>\n",
              "      <th>RD</th>\n",
              "      <th>SP</th>\n",
              "    </tr>\n",
              "  </thead>\n",
              "  <tbody>\n",
              "    <tr>\n",
              "      <th>count</th>\n",
              "      <td>366.000000</td>\n",
              "      <td>366.000000</td>\n",
              "      <td>366.000000</td>\n",
              "      <td>366.000000</td>\n",
              "      <td>366.000000</td>\n",
              "      <td>366.000000</td>\n",
              "    </tr>\n",
              "    <tr>\n",
              "      <th>mean</th>\n",
              "      <td>0.214074</td>\n",
              "      <td>0.148747</td>\n",
              "      <td>0.147995</td>\n",
              "      <td>0.330942</td>\n",
              "      <td>0.046567</td>\n",
              "      <td>0.389129</td>\n",
              "    </tr>\n",
              "    <tr>\n",
              "      <th>std</th>\n",
              "      <td>0.108781</td>\n",
              "      <td>0.144160</td>\n",
              "      <td>0.087543</td>\n",
              "      <td>0.181384</td>\n",
              "      <td>0.080542</td>\n",
              "      <td>0.196271</td>\n",
              "    </tr>\n",
              "    <tr>\n",
              "      <th>min</th>\n",
              "      <td>0.003611</td>\n",
              "      <td>0.007118</td>\n",
              "      <td>0.005029</td>\n",
              "      <td>0.025971</td>\n",
              "      <td>0.001420</td>\n",
              "      <td>-0.061365</td>\n",
              "    </tr>\n",
              "    <tr>\n",
              "      <th>25%</th>\n",
              "      <td>0.162638</td>\n",
              "      <td>0.052989</td>\n",
              "      <td>0.079442</td>\n",
              "      <td>0.194786</td>\n",
              "      <td>0.012828</td>\n",
              "      <td>0.317109</td>\n",
              "    </tr>\n",
              "    <tr>\n",
              "      <th>50%</th>\n",
              "      <td>0.215371</td>\n",
              "      <td>0.098682</td>\n",
              "      <td>0.132807</td>\n",
              "      <td>0.302396</td>\n",
              "      <td>0.022275</td>\n",
              "      <td>0.379000</td>\n",
              "    </tr>\n",
              "    <tr>\n",
              "      <th>75%</th>\n",
              "      <td>0.269240</td>\n",
              "      <td>0.179492</td>\n",
              "      <td>0.217013</td>\n",
              "      <td>0.456563</td>\n",
              "      <td>0.047410</td>\n",
              "      <td>0.435390</td>\n",
              "    </tr>\n",
              "    <tr>\n",
              "      <th>max</th>\n",
              "      <td>0.713160</td>\n",
              "      <td>0.994694</td>\n",
              "      <td>0.483319</td>\n",
              "      <td>0.994363</td>\n",
              "      <td>0.891134</td>\n",
              "      <td>0.997070</td>\n",
              "    </tr>\n",
              "  </tbody>\n",
              "</table>\n",
              "</div>"
            ],
            "text/plain": [
              "               AC         CAL          GR           K          RD          SP\n",
              "count  366.000000  366.000000  366.000000  366.000000  366.000000  366.000000\n",
              "mean     0.214074    0.148747    0.147995    0.330942    0.046567    0.389129\n",
              "std      0.108781    0.144160    0.087543    0.181384    0.080542    0.196271\n",
              "min      0.003611    0.007118    0.005029    0.025971    0.001420   -0.061365\n",
              "25%      0.162638    0.052989    0.079442    0.194786    0.012828    0.317109\n",
              "50%      0.215371    0.098682    0.132807    0.302396    0.022275    0.379000\n",
              "75%      0.269240    0.179492    0.217013    0.456563    0.047410    0.435390\n",
              "max      0.713160    0.994694    0.483319    0.994363    0.891134    0.997070"
            ]
          },
          "metadata": {
            "tags": []
          },
          "execution_count": 11
        }
      ]
    },
    {
      "cell_type": "markdown",
      "metadata": {
        "id": "MEDwUBRLoxv6",
        "colab_type": "text"
      },
      "source": [
        "Scikit包含一个预处理模块，可以“标准化”数据（赋予每个变量零均值和单位方差，也称为白化）。 许多机器学习算法都假定特征将是标准的正态分布数据（即：均值和单位方差为零的高斯）。 用于标准化训练集的因素必须应用于将输入到分类器的任何后续功能集中。 StandardScalar类可以适合于训练集，并在以后用于标准化任何训练数据。"
      ]
    },
    {
      "cell_type": "code",
      "metadata": {
        "id": "bz6rBg4ooxv6",
        "colab_type": "code",
        "colab": {}
      },
      "source": [
        "from sklearn import preprocessing\n",
        "\n",
        "scaler = preprocessing.StandardScaler().fit(feature_vectors)\n",
        "scaled_features = scaler.transform(feature_vectors)\n",
        "scaler_test = preprocessing.StandardScaler().fit(feature_vectors_test)\n",
        "scaled_features_test = scaler.transform(feature_vectors_test)"
      ],
      "execution_count": null,
      "outputs": []
    },
    {
      "cell_type": "code",
      "metadata": {
        "id": "IiC-N8VUoxv9",
        "colab_type": "code",
        "colab": {
          "base_uri": "https://localhost:8080/",
          "height": 407
        },
        "outputId": "0c8b79e2-9e83-43fd-9e77-116e21444a39"
      },
      "source": [
        "feature_vectors"
      ],
      "execution_count": null,
      "outputs": [
        {
          "output_type": "execute_result",
          "data": {
            "text/html": [
              "<div>\n",
              "<style scoped>\n",
              "    .dataframe tbody tr th:only-of-type {\n",
              "        vertical-align: middle;\n",
              "    }\n",
              "\n",
              "    .dataframe tbody tr th {\n",
              "        vertical-align: top;\n",
              "    }\n",
              "\n",
              "    .dataframe thead th {\n",
              "        text-align: right;\n",
              "    }\n",
              "</style>\n",
              "<table border=\"1\" class=\"dataframe\">\n",
              "  <thead>\n",
              "    <tr style=\"text-align: right;\">\n",
              "      <th></th>\n",
              "      <th>AC</th>\n",
              "      <th>CAL</th>\n",
              "      <th>GR</th>\n",
              "      <th>K</th>\n",
              "      <th>RD</th>\n",
              "      <th>SP</th>\n",
              "    </tr>\n",
              "  </thead>\n",
              "  <tbody>\n",
              "    <tr>\n",
              "      <th>0</th>\n",
              "      <td>0.029102</td>\n",
              "      <td>0.031789</td>\n",
              "      <td>0.026724</td>\n",
              "      <td>0.202335</td>\n",
              "      <td>0.078986</td>\n",
              "      <td>0.333754</td>\n",
              "    </tr>\n",
              "    <tr>\n",
              "      <th>1</th>\n",
              "      <td>0.032883</td>\n",
              "      <td>0.033469</td>\n",
              "      <td>0.030592</td>\n",
              "      <td>0.203141</td>\n",
              "      <td>0.076064</td>\n",
              "      <td>0.333669</td>\n",
              "    </tr>\n",
              "    <tr>\n",
              "      <th>2</th>\n",
              "      <td>0.034385</td>\n",
              "      <td>0.037006</td>\n",
              "      <td>0.032359</td>\n",
              "      <td>0.200121</td>\n",
              "      <td>0.074503</td>\n",
              "      <td>0.333619</td>\n",
              "    </tr>\n",
              "    <tr>\n",
              "      <th>3</th>\n",
              "      <td>0.243816</td>\n",
              "      <td>0.143381</td>\n",
              "      <td>0.086581</td>\n",
              "      <td>0.290115</td>\n",
              "      <td>0.017649</td>\n",
              "      <td>0.094025</td>\n",
              "    </tr>\n",
              "    <tr>\n",
              "      <th>4</th>\n",
              "      <td>0.248043</td>\n",
              "      <td>0.146786</td>\n",
              "      <td>0.084643</td>\n",
              "      <td>0.283874</td>\n",
              "      <td>0.017286</td>\n",
              "      <td>0.090554</td>\n",
              "    </tr>\n",
              "    <tr>\n",
              "      <th>...</th>\n",
              "      <td>...</td>\n",
              "      <td>...</td>\n",
              "      <td>...</td>\n",
              "      <td>...</td>\n",
              "      <td>...</td>\n",
              "      <td>...</td>\n",
              "    </tr>\n",
              "    <tr>\n",
              "      <th>3340</th>\n",
              "      <td>0.012092</td>\n",
              "      <td>0.067866</td>\n",
              "      <td>0.007657</td>\n",
              "      <td>0.077713</td>\n",
              "      <td>0.181798</td>\n",
              "      <td>0.348797</td>\n",
              "    </tr>\n",
              "    <tr>\n",
              "      <th>3341</th>\n",
              "      <td>0.011831</td>\n",
              "      <td>0.069989</td>\n",
              "      <td>0.007606</td>\n",
              "      <td>0.081135</td>\n",
              "      <td>0.206839</td>\n",
              "      <td>0.348560</td>\n",
              "    </tr>\n",
              "    <tr>\n",
              "      <th>3342</th>\n",
              "      <td>0.011533</td>\n",
              "      <td>0.070121</td>\n",
              "      <td>0.009591</td>\n",
              "      <td>0.081337</td>\n",
              "      <td>0.250115</td>\n",
              "      <td>0.348470</td>\n",
              "    </tr>\n",
              "    <tr>\n",
              "      <th>3343</th>\n",
              "      <td>0.008903</td>\n",
              "      <td>0.069325</td>\n",
              "      <td>0.010596</td>\n",
              "      <td>0.081135</td>\n",
              "      <td>0.281774</td>\n",
              "      <td>0.348340</td>\n",
              "    </tr>\n",
              "    <tr>\n",
              "      <th>3344</th>\n",
              "      <td>0.003230</td>\n",
              "      <td>0.070210</td>\n",
              "      <td>0.012674</td>\n",
              "      <td>0.080129</td>\n",
              "      <td>0.329088</td>\n",
              "      <td>0.348228</td>\n",
              "    </tr>\n",
              "  </tbody>\n",
              "</table>\n",
              "<p>3345 rows × 6 columns</p>\n",
              "</div>"
            ],
            "text/plain": [
              "            AC       CAL        GR         K        RD        SP\n",
              "0     0.029102  0.031789  0.026724  0.202335  0.078986  0.333754\n",
              "1     0.032883  0.033469  0.030592  0.203141  0.076064  0.333669\n",
              "2     0.034385  0.037006  0.032359  0.200121  0.074503  0.333619\n",
              "3     0.243816  0.143381  0.086581  0.290115  0.017649  0.094025\n",
              "4     0.248043  0.146786  0.084643  0.283874  0.017286  0.090554\n",
              "...        ...       ...       ...       ...       ...       ...\n",
              "3340  0.012092  0.067866  0.007657  0.077713  0.181798  0.348797\n",
              "3341  0.011831  0.069989  0.007606  0.081135  0.206839  0.348560\n",
              "3342  0.011533  0.070121  0.009591  0.081337  0.250115  0.348470\n",
              "3343  0.008903  0.069325  0.010596  0.081135  0.281774  0.348340\n",
              "3344  0.003230  0.070210  0.012674  0.080129  0.329088  0.348228\n",
              "\n",
              "[3345 rows x 6 columns]"
            ]
          },
          "metadata": {
            "tags": []
          },
          "execution_count": 13
        }
      ]
    },
    {
      "cell_type": "code",
      "metadata": {
        "id": "bixBrTzs5qLy",
        "colab_type": "code",
        "colab": {
          "base_uri": "https://localhost:8080/",
          "height": 407
        },
        "outputId": "952560ea-18f2-4db5-b9e7-204c7c6ad1c5"
      },
      "source": [
        "feature_vectors_test"
      ],
      "execution_count": null,
      "outputs": [
        {
          "output_type": "execute_result",
          "data": {
            "text/html": [
              "<div>\n",
              "<style scoped>\n",
              "    .dataframe tbody tr th:only-of-type {\n",
              "        vertical-align: middle;\n",
              "    }\n",
              "\n",
              "    .dataframe tbody tr th {\n",
              "        vertical-align: top;\n",
              "    }\n",
              "\n",
              "    .dataframe thead th {\n",
              "        text-align: right;\n",
              "    }\n",
              "</style>\n",
              "<table border=\"1\" class=\"dataframe\">\n",
              "  <thead>\n",
              "    <tr style=\"text-align: right;\">\n",
              "      <th></th>\n",
              "      <th>AC</th>\n",
              "      <th>CAL</th>\n",
              "      <th>GR</th>\n",
              "      <th>K</th>\n",
              "      <th>RD</th>\n",
              "      <th>SP</th>\n",
              "    </tr>\n",
              "  </thead>\n",
              "  <tbody>\n",
              "    <tr>\n",
              "      <th>0</th>\n",
              "      <td>0.038756</td>\n",
              "      <td>0.026970</td>\n",
              "      <td>0.094776</td>\n",
              "      <td>0.112543</td>\n",
              "      <td>0.001420</td>\n",
              "      <td>0.614504</td>\n",
              "    </tr>\n",
              "    <tr>\n",
              "      <th>1</th>\n",
              "      <td>0.347382</td>\n",
              "      <td>0.090194</td>\n",
              "      <td>0.145150</td>\n",
              "      <td>0.202335</td>\n",
              "      <td>0.002744</td>\n",
              "      <td>0.339568</td>\n",
              "    </tr>\n",
              "    <tr>\n",
              "      <th>2</th>\n",
              "      <td>0.218400</td>\n",
              "      <td>0.059510</td>\n",
              "      <td>0.252165</td>\n",
              "      <td>0.711295</td>\n",
              "      <td>0.003874</td>\n",
              "      <td>0.918567</td>\n",
              "    </tr>\n",
              "    <tr>\n",
              "      <th>3</th>\n",
              "      <td>0.366064</td>\n",
              "      <td>0.082147</td>\n",
              "      <td>0.149304</td>\n",
              "      <td>0.201731</td>\n",
              "      <td>0.003290</td>\n",
              "      <td>0.343180</td>\n",
              "    </tr>\n",
              "    <tr>\n",
              "      <th>4</th>\n",
              "      <td>0.291877</td>\n",
              "      <td>0.079981</td>\n",
              "      <td>0.141782</td>\n",
              "      <td>0.289309</td>\n",
              "      <td>0.003455</td>\n",
              "      <td>0.344605</td>\n",
              "    </tr>\n",
              "    <tr>\n",
              "      <th>...</th>\n",
              "      <td>...</td>\n",
              "      <td>...</td>\n",
              "      <td>...</td>\n",
              "      <td>...</td>\n",
              "      <td>...</td>\n",
              "      <td>...</td>\n",
              "    </tr>\n",
              "    <tr>\n",
              "      <th>361</th>\n",
              "      <td>0.016947</td>\n",
              "      <td>0.138827</td>\n",
              "      <td>0.118400</td>\n",
              "      <td>0.358567</td>\n",
              "      <td>0.281687</td>\n",
              "      <td>0.302936</td>\n",
              "    </tr>\n",
              "    <tr>\n",
              "      <th>362</th>\n",
              "      <td>0.131043</td>\n",
              "      <td>0.069016</td>\n",
              "      <td>0.029354</td>\n",
              "      <td>0.060197</td>\n",
              "      <td>0.282093</td>\n",
              "      <td>0.253809</td>\n",
              "    </tr>\n",
              "    <tr>\n",
              "      <th>363</th>\n",
              "      <td>0.036182</td>\n",
              "      <td>0.032010</td>\n",
              "      <td>0.030090</td>\n",
              "      <td>0.071069</td>\n",
              "      <td>0.359737</td>\n",
              "      <td>0.435486</td>\n",
              "    </tr>\n",
              "    <tr>\n",
              "      <th>364</th>\n",
              "      <td>0.014562</td>\n",
              "      <td>0.127332</td>\n",
              "      <td>0.035014</td>\n",
              "      <td>0.178579</td>\n",
              "      <td>0.803566</td>\n",
              "      <td>0.311641</td>\n",
              "    </tr>\n",
              "    <tr>\n",
              "      <th>365</th>\n",
              "      <td>0.014427</td>\n",
              "      <td>0.134185</td>\n",
              "      <td>0.033460</td>\n",
              "      <td>0.186430</td>\n",
              "      <td>0.891134</td>\n",
              "      <td>0.311652</td>\n",
              "    </tr>\n",
              "  </tbody>\n",
              "</table>\n",
              "<p>366 rows × 6 columns</p>\n",
              "</div>"
            ],
            "text/plain": [
              "           AC       CAL        GR         K        RD        SP\n",
              "0    0.038756  0.026970  0.094776  0.112543  0.001420  0.614504\n",
              "1    0.347382  0.090194  0.145150  0.202335  0.002744  0.339568\n",
              "2    0.218400  0.059510  0.252165  0.711295  0.003874  0.918567\n",
              "3    0.366064  0.082147  0.149304  0.201731  0.003290  0.343180\n",
              "4    0.291877  0.079981  0.141782  0.289309  0.003455  0.344605\n",
              "..        ...       ...       ...       ...       ...       ...\n",
              "361  0.016947  0.138827  0.118400  0.358567  0.281687  0.302936\n",
              "362  0.131043  0.069016  0.029354  0.060197  0.282093  0.253809\n",
              "363  0.036182  0.032010  0.030090  0.071069  0.359737  0.435486\n",
              "364  0.014562  0.127332  0.035014  0.178579  0.803566  0.311641\n",
              "365  0.014427  0.134185  0.033460  0.186430  0.891134  0.311652\n",
              "\n",
              "[366 rows x 6 columns]"
            ]
          },
          "metadata": {
            "tags": []
          },
          "execution_count": 14
        }
      ]
    },
    {
      "cell_type": "markdown",
      "metadata": {
        "id": "1WZaSxbaoxwD",
        "colab_type": "text"
      },
      "source": [
        "##导入本地py模块\n"
      ]
    },
    {
      "cell_type": "code",
      "metadata": {
        "id": "FjGb0UhWYPbu",
        "colab_type": "code",
        "colab": {}
      },
      "source": [
        "import sys\n",
        "sys.path.append('/content/drive/My Drive/Colab Notebooks/Machine-Learning-From-Scratch-master')"
      ],
      "execution_count": null,
      "outputs": []
    },
    {
      "cell_type": "code",
      "metadata": {
        "id": "KHf61uM9pzdt",
        "colab_type": "code",
        "colab": {}
      },
      "source": [
        "X_train = scaled_features\n",
        "X_test = scaled_features_test\n",
        "y_train = correct_facies_labels\n",
        "y_test = correct_facies_labels_test"
      ],
      "execution_count": null,
      "outputs": []
    },
    {
      "cell_type": "markdown",
      "metadata": {
        "id": "tjYep1ppoxwI",
        "colab_type": "text"
      },
      "source": [
        "##使用KNN\n",
        "\n"
      ]
    },
    {
      "cell_type": "code",
      "metadata": {
        "id": "mWRb1D0TTJpL",
        "colab_type": "code",
        "colab": {
          "base_uri": "https://localhost:8080/",
          "height": 325
        },
        "outputId": "78ec1907-b773-4788-cf16-c366245a82b4"
      },
      "source": [
        "import numpy as np\n",
        "import matplotlib.pyplot as plt\n",
        "from sklearn import datasets\n",
        "\n",
        "from utils import train_test_split, normalize, accuracy_score\n",
        "from utils import euclidean_distance, Plot\n",
        "class KNN():\n",
        "\n",
        "    def __init__(self,k=5):\n",
        "\n",
        "        self.k = k\n",
        "    def predict(self, X_test, X_train, y_train):\n",
        "\n",
        "        y_predict = np.zeros(X_test.shape[0])\n",
        "\n",
        "        for i in range(X_test.shape[0]):\n",
        "\n",
        "            distances = np.zeros((X_train.shape[0], 2)) #测试的数据和训练的各个数据的欧式距离\n",
        "\n",
        "            for j in range(X_train.shape[0]):\n",
        "                dis = euclidean_distance(X_test[i], X_train[j]) #计算欧式距离\n",
        "                label = y_train[j] #测试集到的每个训练集的数据的分类标签\n",
        "                distances[j] = [dis, label]\n",
        "\n",
        "                # argsort()得到测试集到训练的各个数据的欧式距离从小到大排列并且得到序列，然后再取前k个.\n",
        "                k_nearest_neighbors = distances[distances[:, 0].argsort()][:self.k]\n",
        "\n",
        "                #利用np.bincount统计k个近邻里面各类别出现的次数\n",
        "                counts = np.bincount(k_nearest_neighbors[:, 1].astype('int'))\n",
        "\n",
        "                #得出每个测试数据k个近邻里面各类别出现的次数最多的类别\n",
        "                testLabel = counts.argmax()\n",
        "                y_predict[i] = testLabel\n",
        "\n",
        "        return y_predict\n",
        "\n",
        "def run():\n",
        "    #初始化knn\n",
        "    model = KNN(k=5)\n",
        "    y_pred = model.predict(X_test, X_train, y_train)\n",
        "\n",
        "    accuracy = accuracy_score(y_test, y_pred)\n",
        "\n",
        "    print(\"Accuracy:\", accuracy)\n",
        "\n",
        "    # 用图画出测试集的分类情况\n",
        "    Plot().plot_in_2d(X_test, y_pred, title=\"KNN\", accuracy=accuracy)\n",
        "\n",
        "\n",
        "if __name__ == \"__main__\":\n",
        "    run()"
      ],
      "execution_count": null,
      "outputs": [
        {
          "output_type": "stream",
          "text": [
            "Accuracy: 0.8497267759562842\n"
          ],
          "name": "stdout"
        },
        {
          "output_type": "display_data",
          "data": {
            "image/png": "[encoded data removed]",
            "text/plain": [
              "<Figure size 432x288 with 1 Axes>"
            ]
          },
          "metadata": {
            "tags": [],
            "needs_background": "light"
          }
        }
      ]
    },
    {
      "cell_type": "markdown",
      "metadata": {
        "id": "r_r1dwF2oxwO",
        "colab_type": "text"
      },
      "source": [
        "##分类混淆矩阵"
      ]
    },
    {
      "cell_type": "markdown",
      "metadata": {
        "id": "BT0VKigGmQ9y",
        "colab_type": "text"
      },
      "source": [
        "这里需要导入一个py模块具体方法如下："
      ]
    },
    {
      "cell_type": "code",
      "metadata": {
        "id": "tSgtFGommg4b",
        "colab_type": "code",
        "colab": {
          "base_uri": "https://localhost:8080/",
          "height": 55
        },
        "outputId": "8e2fda70-ebc2-4cc8-8ac4-652853f33132"
      },
      "source": [
        "#导入py模块\n",
        "from google.colab import drive\n",
        "drive.mount('/content/drive/')\n",
        "#加入路径\n",
        "import sys\n",
        "sys.path.append('/content/drive/My Drive/Colab Notebooks/')"
      ],
      "execution_count": null,
      "outputs": [
        {
          "output_type": "stream",
          "text": [
            "Drive already mounted at /content/drive/; to attempt to forcibly remount, call drive.mount(\"/content/drive/\", force_remount=True).\n"
          ],
          "name": "stdout"
        }
      ]
    },
    {
      "cell_type": "code",
      "metadata": {
        "id": "b4HrWWJjoxwP",
        "colab_type": "code",
        "colab": {
          "base_uri": "https://localhost:8080/",
          "height": 173
        },
        "outputId": "dedcfe5e-829f-4550-d8c4-ac86c4f4ff31"
      },
      "source": [
        "from sklearn.metrics import confusion_matrix\n",
        "from classification_utilities import display_cm, display_adj_cm\n",
        "conf = confusion_matrix(y_test, correct_facies_labels_test)\n",
        "display_cm(conf, facies_labels, hide_zeros=True)"
      ],
      "execution_count": null,
      "outputs": [
        {
          "output_type": "stream",
          "text": [
            "     Pred    CS    MS    FS    SS    DM    LS   MDS Total\n",
            "     True\n",
            "       CS    20                                        20\n",
            "       MS          80                                  80\n",
            "       FS                80                            80\n",
            "       SS                      20                      20\n",
            "       DM                            53                53\n",
            "       LS                                  13          13\n",
            "      MDS                                       100   100\n"
          ],
          "name": "stdout"
        }
      ]
    },
    {
      "cell_type": "markdown",
      "metadata": {
        "id": "WVNXWEBuZn9u",
        "colab_type": "text"
      },
      "source": [
        "##实现gbdt"
      ]
    },
    {
      "cell_type": "code",
      "metadata": {
        "id": "TueE172lZmn9",
        "colab_type": "code",
        "colab": {
          "base_uri": "https://localhost:8080/",
          "height": 35
        },
        "outputId": "976635e4-5d14-4192-9d5d-a809fd5cb58d"
      },
      "source": [
        "max_depth=4\n",
        "max_features=10\n",
        "n_estimators=80\n",
        "from sklearn.ensemble import GradientBoostingClassifier\n",
        "import sklearn.metrics\n",
        "gbm0= GradientBoostingClassifier(random_state=10)\n",
        "gbm0.fit(X_train,y_train)\n",
        "y_pred= gbm0.predict(X_test)\n",
        "print(\"Accuracy : %.4f\" % sklearn.metrics.accuracy_score(y_test, y_pred))"
      ],
      "execution_count": null,
      "outputs": [
        {
          "output_type": "stream",
          "text": [
            "Accuracy : 0.8333\n"
          ],
          "name": "stdout"
        }
      ]
    },
    {
      "cell_type": "code",
      "metadata": {
        "id": "mv6q8HrHc0vT",
        "colab_type": "code",
        "colab": {
          "base_uri": "https://localhost:8080/",
          "height": 173
        },
        "outputId": "14beacb6-eb70-409b-ddd5-a7aa51170abf"
      },
      "source": [
        "from sklearn.metrics import confusion_matrix\n",
        "from classification_utilities import display_cm, display_adj_cm\n",
        "conf = confusion_matrix(y_test, correct_facies_labels_test)\n",
        "display_cm(conf, facies_labels, hide_zeros=True)"
      ],
      "execution_count": null,
      "outputs": [
        {
          "output_type": "stream",
          "text": [
            "     Pred    CS    MS    FS    SS    DM    LS   MDS Total\n",
            "     True\n",
            "       CS    20                                        20\n",
            "       MS          80                                  80\n",
            "       FS                80                            80\n",
            "       SS                      20                      20\n",
            "       DM                            53                53\n",
            "       LS                                  13          13\n",
            "      MDS                                       100   100\n"
          ],
          "name": "stdout"
        }
      ]
    },
    {
      "cell_type": "markdown",
      "metadata": {
        "id": "07ffsrfrctbh",
        "colab_type": "text"
      },
      "source": [
        "##随机森林\n",
        "\n"
      ]
    },
    {
      "cell_type": "code",
      "metadata": {
        "id": "U9yut51WdBuS",
        "colab_type": "code",
        "colab": {}
      },
      "source": [
        "import sys\n",
        "sys.path.append('/content/Machine-Learning-From-Scratch')"
      ],
      "execution_count": null,
      "outputs": []
    },
    {
      "cell_type": "code",
      "metadata": {
        "id": "fckcyOhbcm9l",
        "colab_type": "code",
        "colab": {
          "base_uri": "https://localhost:8080/",
          "height": 587
        },
        "outputId": "d05a7048-245c-44d8-f120-c5a99e862f32"
      },
      "source": [
        "from sklearn.ensemble import RandomForestClassifier\n",
        "from sklearn import metrics\n",
        "\n",
        "rfmodel = RandomForestClassifier()\n",
        "rfmodel.fit(X_train,y_train)\n",
        "print('model')\n",
        "print(rfmodel)\n",
        "\n",
        "ypredrf1 = rfmodel.predict(X_test)\n",
        "print('confusion matrix')\n",
        "print(metrics.confusion_matrix(y_test, ypredrf1))\n",
        "print('classification report')\n",
        "print(metrics.classification_report(y_test, ypredrf1))\n",
        "print('Accuracy : %f' % (metrics.accuracy_score(y_test, ypredrf1)))"
      ],
      "execution_count": null,
      "outputs": [
        {
          "output_type": "stream",
          "text": [
            "model\n",
            "RandomForestClassifier(bootstrap=True, ccp_alpha=0.0, class_weight=None,\n",
            "                       criterion='gini', max_depth=None, max_features='auto',\n",
            "                       max_leaf_nodes=None, max_samples=None,\n",
            "                       min_impurity_decrease=0.0, min_impurity_split=None,\n",
            "                       min_samples_leaf=1, min_samples_split=2,\n",
            "                       min_weight_fraction_leaf=0.0, n_estimators=100,\n",
            "                       n_jobs=None, oob_score=False, random_state=None,\n",
            "                       verbose=0, warm_start=False)\n",
            "confusion matrix\n",
            "[[17  3  0  0  0  0  0]\n",
            " [ 0 72  2  0  0  0  6]\n",
            " [ 0  1 75  3  0  0  1]\n",
            " [ 0  3  1 15  0  0  1]\n",
            " [ 0  0  0  0 52  0  1]\n",
            " [ 0  0  0  0  0 13  0]\n",
            " [ 0  7  6  1  1  0 85]]\n",
            "classification report\n",
            "              precision    recall  f1-score   support\n",
            "\n",
            "           1       1.00      0.85      0.92        20\n",
            "           2       0.84      0.90      0.87        80\n",
            "           3       0.89      0.94      0.91        80\n",
            "           4       0.79      0.75      0.77        20\n",
            "           5       0.98      0.98      0.98        53\n",
            "           6       1.00      1.00      1.00        13\n",
            "           7       0.90      0.85      0.88       100\n",
            "\n",
            "    accuracy                           0.90       366\n",
            "   macro avg       0.91      0.90      0.90       366\n",
            "weighted avg       0.90      0.90      0.90       366\n",
            "\n",
            "Accuracy : 0.898907\n"
          ],
          "name": "stdout"
        }
      ]
    },
    {
      "cell_type": "markdown",
      "metadata": {
        "id": "Q_6Awif4Q_nH",
        "colab_type": "text"
      },
      "source": [
        "###分类混淆矩阵"
      ]
    },
    {
      "cell_type": "code",
      "metadata": {
        "id": "G5fedIzsQ-jC",
        "colab_type": "code",
        "colab": {
          "base_uri": "https://localhost:8080/",
          "height": 55
        },
        "outputId": "b6178ecd-e665-435e-d2ff-c60e0ab5f7b7"
      },
      "source": [
        "#导入py模块\n",
        "from google.colab import drive\n",
        "drive.mount('/content/drive/')\n",
        "#加入路径\n",
        "import sys\n",
        "sys.path.append('/content/drive/My Drive/Colab Notebooks/')"
      ],
      "execution_count": null,
      "outputs": [
        {
          "output_type": "stream",
          "text": [
            "Drive already mounted at /content/drive/; to attempt to forcibly remount, call drive.mount(\"/content/drive/\", force_remount=True).\n"
          ],
          "name": "stdout"
        }
      ]
    },
    {
      "cell_type": "code",
      "metadata": {
        "id": "353yCbEiREJN",
        "colab_type": "code",
        "colab": {
          "base_uri": "https://localhost:8080/",
          "height": 173
        },
        "outputId": "00b2f662-74bc-4816-8cdc-bda64b8735ad"
      },
      "source": [
        "from sklearn.metrics import confusion_matrix\n",
        "from classification_utilities import display_cm, display_adj_cm\n",
        "conf = confusion_matrix(y_test, correct_facies_labels_test)\n",
        "display_cm(conf, facies_labels, hide_zeros=True)"
      ],
      "execution_count": null,
      "outputs": [
        {
          "output_type": "stream",
          "text": [
            "     Pred    CS    MS    FS    SS    DM    LS   MDS Total\n",
            "     True\n",
            "       CS    20                                        20\n",
            "       MS          80                                  80\n",
            "       FS                80                            80\n",
            "       SS                      20                      20\n",
            "       DM                            53                53\n",
            "       LS                                  13          13\n",
            "      MDS                                       100   100\n"
          ],
          "name": "stdout"
        }
      ]
    },
    {
      "cell_type": "markdown",
      "metadata": {
        "id": "7Ujww7BhTbkg",
        "colab_type": "text"
      },
      "source": [
        "##采用smote"
      ]
    },
    {
      "cell_type": "code",
      "metadata": {
        "id": "NSd7XB_dTenr",
        "colab_type": "code",
        "colab": {
          "base_uri": "https://localhost:8080/",
          "height": 262
        },
        "outputId": "e19d9046-f724-4f6f-a946-93df9a731cdc"
      },
      "source": [
        "from imblearn.over_sampling import SMOTE\n",
        "from collections import Counter\n",
        "sm = SMOTE(random_state=123)\n",
        "X_train_sm, y_train_sm = sm.fit_sample(X_train, y_train)\n",
        "\n",
        "train_x = pd.DataFrame(X_train_sm)\n",
        "train_y = pd.DataFrame(y_train_sm)\n",
        "print(Counter(y_train_sm))"
      ],
      "execution_count": null,
      "outputs": [
        {
          "output_type": "stream",
          "text": [
            "Counter({5: 928, 3: 928, 7: 928, 1: 928, 2: 928, 4: 928, 6: 928})\n"
          ],
          "name": "stdout"
        },
        {
          "output_type": "stream",
          "text": [
            "/usr/local/lib/python3.6/dist-packages/sklearn/utils/deprecation.py:87: FutureWarning: Function safe_indexing is deprecated; safe_indexing is deprecated in version 0.22 and will be removed in version 0.24.\n",
            "  warnings.warn(msg, category=FutureWarning)\n",
            "/usr/local/lib/python3.6/dist-packages/sklearn/utils/deprecation.py:87: FutureWarning: Function safe_indexing is deprecated; safe_indexing is deprecated in version 0.22 and will be removed in version 0.24.\n",
            "  warnings.warn(msg, category=FutureWarning)\n",
            "/usr/local/lib/python3.6/dist-packages/sklearn/utils/deprecation.py:87: FutureWarning: Function safe_indexing is deprecated; safe_indexing is deprecated in version 0.22 and will be removed in version 0.24.\n",
            "  warnings.warn(msg, category=FutureWarning)\n",
            "/usr/local/lib/python3.6/dist-packages/sklearn/utils/deprecation.py:87: FutureWarning: Function safe_indexing is deprecated; safe_indexing is deprecated in version 0.22 and will be removed in version 0.24.\n",
            "  warnings.warn(msg, category=FutureWarning)\n",
            "/usr/local/lib/python3.6/dist-packages/sklearn/utils/deprecation.py:87: FutureWarning: Function safe_indexing is deprecated; safe_indexing is deprecated in version 0.22 and will be removed in version 0.24.\n",
            "  warnings.warn(msg, category=FutureWarning)\n",
            "/usr/local/lib/python3.6/dist-packages/sklearn/utils/deprecation.py:87: FutureWarning: Function safe_indexing is deprecated; safe_indexing is deprecated in version 0.22 and will be removed in version 0.24.\n",
            "  warnings.warn(msg, category=FutureWarning)\n"
          ],
          "name": "stderr"
        }
      ]
    },
    {
      "cell_type": "markdown",
      "metadata": {
        "id": "ubYsXawxUJ6a",
        "colab_type": "text"
      },
      "source": [
        "###使用smote的随机森林"
      ]
    },
    {
      "cell_type": "code",
      "metadata": {
        "colab_type": "code",
        "id": "GukuP1gRUIcJ",
        "colab": {
          "base_uri": "https://localhost:8080/",
          "height": 642
        },
        "outputId": "27136da6-3a4a-4abb-bf23-aadbaca2d8fd"
      },
      "source": [
        "from sklearn.ensemble import RandomForestClassifier\n",
        "from sklearn import metrics\n",
        "\n",
        "rfmodel = RandomForestClassifier()\n",
        "rfmodel.fit(train_x,train_y)\n",
        "print('model')\n",
        "print(rfmodel)\n",
        "\n",
        "ypredrf1 = rfmodel.predict(X_test)\n",
        "print('confusion matrix')\n",
        "print(metrics.confusion_matrix(y_test, ypredrf1))\n",
        "print('classification report')\n",
        "print(metrics.classification_report(y_test, ypredrf1))\n",
        "print('Accuracy : %f' % (metrics.accuracy_score(y_test, ypredrf1)))"
      ],
      "execution_count": null,
      "outputs": [
        {
          "output_type": "stream",
          "text": [
            "/usr/local/lib/python3.6/dist-packages/ipykernel_launcher.py:5: DataConversionWarning: A column-vector y was passed when a 1d array was expected. Please change the shape of y to (n_samples,), for example using ravel().\n",
            "  \"\"\"\n"
          ],
          "name": "stderr"
        },
        {
          "output_type": "stream",
          "text": [
            "model\n",
            "RandomForestClassifier(bootstrap=True, ccp_alpha=0.0, class_weight=None,\n",
            "                       criterion='gini', max_depth=None, max_features='auto',\n",
            "                       max_leaf_nodes=None, max_samples=None,\n",
            "                       min_impurity_decrease=0.0, min_impurity_split=None,\n",
            "                       min_samples_leaf=1, min_samples_split=2,\n",
            "                       min_weight_fraction_leaf=0.0, n_estimators=100,\n",
            "                       n_jobs=None, oob_score=False, random_state=None,\n",
            "                       verbose=0, warm_start=False)\n",
            "confusion matrix\n",
            "[[20  0  0  0  0  0  0]\n",
            " [ 0 72  3  1  0  0  4]\n",
            " [ 0  1 76  2  0  0  1]\n",
            " [ 0  3  1 16  0  0  0]\n",
            " [ 0  0  0  0 53  0  0]\n",
            " [ 0  0  0  0  0 13  0]\n",
            " [ 0  6  5  2  1  0 86]]\n",
            "classification report\n",
            "              precision    recall  f1-score   support\n",
            "\n",
            "           1       1.00      1.00      1.00        20\n",
            "           2       0.88      0.90      0.89        80\n",
            "           3       0.89      0.95      0.92        80\n",
            "           4       0.76      0.80      0.78        20\n",
            "           5       0.98      1.00      0.99        53\n",
            "           6       1.00      1.00      1.00        13\n",
            "           7       0.95      0.86      0.90       100\n",
            "\n",
            "    accuracy                           0.92       366\n",
            "   macro avg       0.92      0.93      0.93       366\n",
            "weighted avg       0.92      0.92      0.92       366\n",
            "\n",
            "Accuracy : 0.918033\n"
          ],
          "name": "stdout"
        }
      ]
    },
    {
      "cell_type": "markdown",
      "metadata": {
        "id": "f0t81PS7s1gU",
        "colab_type": "text"
      },
      "source": [
        "##MAHAKIL 过采样"
      ]
    },
    {
      "cell_type": "code",
      "metadata": {
        "id": "SKXIzzKotLYD",
        "colab_type": "code",
        "colab": {
          "base_uri": "https://localhost:8080/",
          "height": 86
        },
        "outputId": "762f8a57-703d-4329-dd22-96c1efd976b8"
      },
      "source": [
        "!git clone https://github.com/ai-se/MAHAKIL_imbalance.git"
      ],
      "execution_count": null,
      "outputs": [
        {
          "output_type": "stream",
          "text": [
            "Cloning into 'MAHAKIL_imbalance'...\n",
            "remote: Enumerating objects: 62, done.\u001b[K\n",
            "Unpacking objects:   1% (1/62)   \rUnpacking objects:   3% (2/62)   \rUnpacking objects:   4% (3/62)   \rUnpacking objects:   6% (4/62)   \rUnpacking objects:   8% (5/62)   \rUnpacking objects:   9% (6/62)   \rUnpacking objects:  11% (7/62)   \rUnpacking objects:  12% (8/62)   \rUnpacking objects:  14% (9/62)   \rUnpacking objects:  16% (10/62)   \rUnpacking objects:  17% (11/62)   \rUnpacking objects:  19% (12/62)   \rUnpacking objects:  20% (13/62)   \rUnpacking objects:  22% (14/62)   \rUnpacking objects:  24% (15/62)   \rUnpacking objects:  25% (16/62)   \rUnpacking objects:  27% (17/62)   \rUnpacking objects:  29% (18/62)   \rUnpacking objects:  30% (19/62)   \rUnpacking objects:  32% (20/62)   \rUnpacking objects:  33% (21/62)   \rUnpacking objects:  35% (22/62)   \rremote: Total 62 (delta 0), reused 0 (delta 0), pack-reused 62\u001b[K\n",
            "Unpacking objects:  37% (23/62)   \rUnpacking objects:  38% (24/62)   \rUnpacking objects:  40% (25/62)   \rUnpacking objects:  41% (26/62)   \rUnpacking objects:  43% (27/62)   \rUnpacking objects:  45% (28/62)   \rUnpacking objects:  46% (29/62)   \rUnpacking objects:  48% (30/62)   \rUnpacking objects:  50% (31/62)   \rUnpacking objects:  51% (32/62)   \rUnpacking objects:  53% (33/62)   \rUnpacking objects:  54% (34/62)   \rUnpacking objects:  56% (35/62)   \rUnpacking objects:  58% (36/62)   \rUnpacking objects:  59% (37/62)   \rUnpacking objects:  61% (38/62)   \rUnpacking objects:  62% (39/62)   \rUnpacking objects:  64% (40/62)   \rUnpacking objects:  66% (41/62)   \rUnpacking objects:  67% (42/62)   \rUnpacking objects:  69% (43/62)   \rUnpacking objects:  70% (44/62)   \rUnpacking objects:  72% (45/62)   \rUnpacking objects:  74% (46/62)   \rUnpacking objects:  75% (47/62)   \rUnpacking objects:  77% (48/62)   \rUnpacking objects:  79% (49/62)   \rUnpacking objects:  80% (50/62)   \rUnpacking objects:  82% (51/62)   \rUnpacking objects:  83% (52/62)   \rUnpacking objects:  85% (53/62)   \rUnpacking objects:  87% (54/62)   \rUnpacking objects:  88% (55/62)   \rUnpacking objects:  90% (56/62)   \rUnpacking objects:  91% (57/62)   \rUnpacking objects:  93% (58/62)   \rUnpacking objects:  95% (59/62)   \rUnpacking objects:  96% (60/62)   \rUnpacking objects:  98% (61/62)   \rUnpacking objects: 100% (62/62)   \rUnpacking objects: 100% (62/62), done.\n"
          ],
          "name": "stdout"
        }
      ]
    },
    {
      "cell_type": "code",
      "metadata": {
        "id": "TRxiTwF8v9yu",
        "colab_type": "code",
        "colab": {}
      },
      "source": [
        "sys.path.append('/content/MAHAKIL')"
      ],
      "execution_count": null,
      "outputs": []
    },
    {
      "cell_type": "code",
      "metadata": {
        "id": "mbOuc3C3wCcd",
        "colab_type": "code",
        "colab": {
          "base_uri": "https://localhost:8080/",
          "height": 206
        },
        "outputId": "a693ff08-d635-4cef-a66b-6334b57d5d2d"
      },
      "source": [
        "import mahakil\n",
        "\n",
        "data = X_train\n",
        "label = y_train\n",
        "mahakil.fit_sample(data, label)"
      ],
      "execution_count": null,
      "outputs": [
        {
          "output_type": "error",
          "ename": "AttributeError",
          "evalue": "ignored",
          "traceback": [
            "\u001b[0;31m---------------------------------------------------------------------------\u001b[0m",
            "\u001b[0;31mAttributeError\u001b[0m                            Traceback (most recent call last)",
            "\u001b[0;32m<ipython-input-44-e7645ce2a621>\u001b[0m in \u001b[0;36m<module>\u001b[0;34m()\u001b[0m\n\u001b[1;32m      3\u001b[0m \u001b[0mdata\u001b[0m \u001b[0;34m=\u001b[0m \u001b[0mX_train\u001b[0m\u001b[0;34m\u001b[0m\u001b[0;34m\u001b[0m\u001b[0m\n\u001b[1;32m      4\u001b[0m \u001b[0mlabel\u001b[0m \u001b[0;34m=\u001b[0m \u001b[0my_train\u001b[0m\u001b[0;34m\u001b[0m\u001b[0;34m\u001b[0m\u001b[0m\n\u001b[0;32m----> 5\u001b[0;31m \u001b[0mmahakil\u001b[0m\u001b[0;34m.\u001b[0m\u001b[0mfit_sample\u001b[0m\u001b[0;34m(\u001b[0m\u001b[0mdata\u001b[0m\u001b[0;34m,\u001b[0m \u001b[0mlabel\u001b[0m\u001b[0;34m)\u001b[0m\u001b[0;34m\u001b[0m\u001b[0;34m\u001b[0m\u001b[0m\n\u001b[0m",
            "\u001b[0;31mAttributeError\u001b[0m: module 'mahakil' has no attribute 'fit_sample'"
          ]
        }
      ]
    },
    {
      "cell_type": "markdown",
      "metadata": {
        "id": "m147xfrt7zdD",
        "colab_type": "text"
      },
      "source": [
        "##pca处理"
      ]
    },
    {
      "cell_type": "code",
      "metadata": {
        "id": "0qWeytq172tr",
        "colab_type": "code",
        "colab": {
          "base_uri": "https://localhost:8080/",
          "height": 104
        },
        "outputId": "3092806c-5e2d-418d-f2ba-0fe947264528"
      },
      "source": [
        "!git clone https://github.com/RRdmlearning/Machine-Learning-From-Scratch.git"
      ],
      "execution_count": null,
      "outputs": [
        {
          "output_type": "stream",
          "text": [
            "Cloning into 'Machine-Learning-From-Scratch'...\n",
            "remote: Enumerating objects: 287, done.\u001b[K\n",
            "Receiving objects:   0% (1/287)   \rReceiving objects:   1% (3/287)   \rReceiving objects:   2% (6/287)   \rReceiving objects:   3% (9/287)   \rReceiving objects:   4% (12/287)   \rReceiving objects:   5% (15/287)   \rReceiving objects:   6% (18/287)   \rReceiving objects:   7% (21/287)   \rReceiving objects:   8% (23/287)   \rReceiving objects:   9% (26/287)   \rReceiving objects:  10% (29/287)   \rReceiving objects:  11% (32/287)   \rReceiving objects:  12% (35/287)   \rReceiving objects:  13% (38/287)   \rReceiving objects:  14% (41/287)   \rReceiving objects:  15% (44/287)   \rReceiving objects:  16% (46/287)   \rReceiving objects:  17% (49/287)   \rReceiving objects:  18% (52/287)   \rReceiving objects:  19% (55/287)   \rReceiving objects:  20% (58/287)   \rReceiving objects:  21% (61/287)   \rReceiving objects:  22% (64/287)   \rReceiving objects:  23% (67/287)   \rReceiving objects:  24% (69/287)   \rReceiving objects:  25% (72/287)   \rReceiving objects:  26% (75/287)   \rReceiving objects:  27% (78/287)   \rReceiving objects:  28% (81/287)   \rReceiving objects:  29% (84/287)   \rReceiving objects:  30% (87/287)   \rReceiving objects:  31% (89/287)   \rReceiving objects:  32% (92/287)   \rReceiving objects:  33% (95/287)   \rReceiving objects:  34% (98/287)   \rReceiving objects:  35% (101/287)   \rReceiving objects:  36% (104/287)   \rReceiving objects:  37% (107/287)   \rReceiving objects:  38% (110/287)   \rReceiving objects:  39% (112/287)   \rReceiving objects:  40% (115/287)   \rReceiving objects:  41% (118/287)   \rReceiving objects:  42% (121/287)   \rReceiving objects:  43% (124/287)   \rReceiving objects:  44% (127/287)   \rReceiving objects:  45% (130/287)   \rReceiving objects:  46% (133/287)   \rReceiving objects:  47% (135/287)   \rReceiving objects:  48% (138/287)   \rremote: Total 287 (delta 0), reused 0 (delta 0), pack-reused 287\u001b[K\n",
            "Receiving objects:  49% (141/287)   \rReceiving objects:  50% (144/287)   \rReceiving objects:  51% (147/287)   \rReceiving objects:  52% (150/287)   \rReceiving objects:  53% (153/287)   \rReceiving objects:  54% (155/287)   \rReceiving objects:  55% (158/287)   \rReceiving objects:  56% (161/287)   \rReceiving objects:  57% (164/287)   \rReceiving objects:  58% (167/287)   \rReceiving objects:  59% (170/287)   \rReceiving objects:  60% (173/287)   \rReceiving objects:  61% (176/287)   \rReceiving objects:  62% (178/287)   \rReceiving objects:  63% (181/287)   \rReceiving objects:  64% (184/287)   \rReceiving objects:  65% (187/287)   \rReceiving objects:  66% (190/287)   \rReceiving objects:  67% (193/287)   \rReceiving objects:  68% (196/287)   \rReceiving objects:  69% (199/287)   \rReceiving objects:  70% (201/287)   \rReceiving objects:  71% (204/287)   \rReceiving objects:  72% (207/287)   \rReceiving objects:  73% (210/287)   \rReceiving objects:  74% (213/287)   \rReceiving objects:  75% (216/287)   \rReceiving objects:  76% (219/287)   \rReceiving objects:  77% (221/287)   \rReceiving objects:  78% (224/287)   \rReceiving objects:  79% (227/287)   \rReceiving objects:  80% (230/287)   \rReceiving objects:  81% (233/287)   \rReceiving objects:  82% (236/287)   \rReceiving objects:  83% (239/287)   \rReceiving objects:  84% (242/287)   \rReceiving objects:  85% (244/287)   \rReceiving objects:  86% (247/287)   \rReceiving objects:  87% (250/287)   \rReceiving objects:  88% (253/287)   \rReceiving objects:  89% (256/287)   \rReceiving objects:  90% (259/287)   \rReceiving objects:  91% (262/287)   \rReceiving objects:  92% (265/287)   \rReceiving objects:  93% (267/287)   \rReceiving objects:  94% (270/287)   \rReceiving objects:  95% (273/287)   \rReceiving objects:  96% (276/287)   \rReceiving objects:  97% (279/287)   \rReceiving objects:  98% (282/287)   \rReceiving objects:  99% (285/287)   \rReceiving objects: 100% (287/287)   \rReceiving objects: 100% (287/287), 91.24 KiB | 2.94 MiB/s, done.\n",
            "Resolving deltas:   0% (0/133)   \rResolving deltas:   8% (11/133)   \rResolving deltas:  12% (16/133)   \rResolving deltas:  14% (19/133)   \rResolving deltas:  16% (22/133)   \rResolving deltas:  17% (23/133)   \rResolving deltas:  19% (26/133)   \rResolving deltas:  21% (29/133)   \rResolving deltas:  24% (33/133)   \rResolving deltas:  25% (34/133)   \rResolving deltas:  28% (38/133)   \rResolving deltas:  30% (40/133)   \rResolving deltas:  31% (42/133)   \rResolving deltas:  33% (45/133)   \rResolving deltas:  35% (47/133)   \rResolving deltas:  37% (50/133)   \rResolving deltas:  63% (85/133)   \rResolving deltas:  69% (92/133)   \rResolving deltas:  74% (99/133)   \rResolving deltas:  76% (102/133)   \rResolving deltas:  78% (104/133)   \rResolving deltas: 100% (133/133)   \rResolving deltas: 100% (133/133), done.\n"
          ],
          "name": "stdout"
        }
      ]
    },
    {
      "cell_type": "code",
      "metadata": {
        "id": "D96D71hl8Ba9",
        "colab_type": "code",
        "colab": {
          "base_uri": "https://localhost:8080/",
          "height": 308
        },
        "outputId": "11280cef-48c1-48b8-921c-a6becd8ca691"
      },
      "source": [
        "import numpy as np\n",
        "import matplotlib.pyplot as plt\n",
        "import matplotlib.cm as cmx\n",
        "import matplotlib.colors as colors\n",
        "\n",
        "class PCA():\n",
        "    def calculate_covariance_matrix(self, X, Y=None):\n",
        "        # 计算协方差矩阵\n",
        "\n",
        "        m = X.shape[0]\n",
        "        X = X - np.mean(X, axis=0)\n",
        "        Y = X if Y == None else Y - np.mean(Y, axis=0)\n",
        "        return 1 / m * np.matmul(X.T, Y)\n",
        "\n",
        "    def transform(self, X, n_components):\n",
        "        # 设n=X.shape[1]，将n维数据降维成n_component维\n",
        "\n",
        "        covariance_matrix = self.calculate_covariance_matrix(X)\n",
        "\n",
        "        # 获取特征值，和特征向量\n",
        "        eigenvalues, eigenvectors = np.linalg.eig(covariance_matrix)\n",
        "\n",
        "        # 对特征向量排序，并取最大的前n_component组\n",
        "        idx = eigenvalues.argsort()[::-1]\n",
        "        eigenvectors = eigenvectors[:, idx]\n",
        "        eigenvectors = eigenvectors[:, :n_components]\n",
        "\n",
        "        # 转换\n",
        "        return np.matmul(X, eigenvectors)\n",
        "\n",
        "\n",
        "data = datasets.load_digits()\n",
        "X = X_train\n",
        "X_ = X_test\n",
        "y = y_train\n",
        "\n",
        "#降到了四维\n",
        "X_trans = PCA().transform(X, 4)\n",
        "X_tests = PCA().transform(X_, 4)\n",
        "\n",
        "x1 = X_trans[:, 0]\n",
        "x2 = X_trans[:, 1]\n",
        "\n",
        "cmap = plt.get_cmap('viridis')\n",
        "colors = [cmap(i) for i in np.linspace(0, 1, len(np.unique(y)))]\n",
        "\n",
        "class_distr = []\n",
        "# Plot the different class distributions\n",
        "for i, l in enumerate(np.unique(y)):\n",
        "    _x1 = x1[y == l]\n",
        "    _x2 = x2[y == l]\n",
        "    _y = y[y == l]\n",
        "    class_distr.append(plt.scatter(_x1, _x2, color=colors[i]))\n",
        "\n",
        "# Add a legend\n",
        "plt.legend(class_distr, y, loc=1)\n",
        "\n",
        "# Axis labels\n",
        "plt.suptitle(\"PCA Dimensionality Reduction\")\n",
        "plt.title(\"Digit Dataset\")\n",
        "plt.xlabel('Principal Component 1')\n",
        "plt.ylabel('Principal Component 2')\n",
        "plt.show()\n",
        "\n"
      ],
      "execution_count": null,
      "outputs": [
        {
          "output_type": "display_data",
          "data": {
            "image/png": "[encoded data removed]",
            "text/plain": [
              "<Figure size 432x288 with 1 Axes>"
            ]
          },
          "metadata": {
            "tags": [],
            "needs_background": "light"
          }
        }
      ]
    },
    {
      "cell_type": "code",
      "metadata": {
        "id": "54BY1LCu-_tt",
        "colab_type": "code",
        "colab": {
          "base_uri": "https://localhost:8080/",
          "height": 138
        },
        "outputId": "990356eb-f937-4477-fd74-7c97f39f717d"
      },
      "source": [
        "X_trans"
      ],
      "execution_count": null,
      "outputs": [
        {
          "output_type": "execute_result",
          "data": {
            "text/plain": [
              "array([[-2.26600294, -0.54810012,  0.29714145, -0.62509668],\n",
              "       [-2.21266339, -0.53400954,  0.29852129, -0.63764502],\n",
              "       [-2.19406128, -0.50863143,  0.29123398, -0.64414437],\n",
              "       ...,\n",
              "       [-3.48795389, -0.32258975,  0.08979368,  1.04604457],\n",
              "       [-3.63819205, -0.3589572 ,  0.11550593,  1.37186054],\n",
              "       [-3.86571676, -0.40992478,  0.15476142,  1.86173112]])"
            ]
          },
          "metadata": {
            "tags": []
          },
          "execution_count": 76
        }
      ]
    },
    {
      "cell_type": "markdown",
      "metadata": {
        "id": "FwytgV4l-H6a",
        "colab_type": "text"
      },
      "source": [
        "##采用pca后的随机森林"
      ]
    },
    {
      "cell_type": "code",
      "metadata": {
        "id": "_u7iJPPW9wwq",
        "colab_type": "code",
        "colab": {
          "base_uri": "https://localhost:8080/",
          "height": 587
        },
        "outputId": "d14c9935-705f-4a4f-ec4a-24be62d701e4"
      },
      "source": [
        "from sklearn.ensemble import RandomForestClassifier\n",
        "from sklearn import metrics\n",
        "\n",
        "rfmodel = RandomForestClassifier()\n",
        "rfmodel.fit(X_trans,y_train)\n",
        "print('model')\n",
        "print(rfmodel)\n",
        "\n",
        "ypredrf1 = rfmodel.predict(X_tests)\n",
        "print('confusion matrix')\n",
        "print(metrics.confusion_matrix(y_test, ypredrf1))\n",
        "print('classification report')\n",
        "print(metrics.classification_report(y_test, ypredrf1))\n",
        "print('Accuracy : %f' % (metrics.accuracy_score(y_test, ypredrf1)))"
      ],
      "execution_count": null,
      "outputs": [
        {
          "output_type": "stream",
          "text": [
            "model\n",
            "RandomForestClassifier(bootstrap=True, ccp_alpha=0.0, class_weight=None,\n",
            "                       criterion='gini', max_depth=None, max_features='auto',\n",
            "                       max_leaf_nodes=None, max_samples=None,\n",
            "                       min_impurity_decrease=0.0, min_impurity_split=None,\n",
            "                       min_samples_leaf=1, min_samples_split=2,\n",
            "                       min_weight_fraction_leaf=0.0, n_estimators=100,\n",
            "                       n_jobs=None, oob_score=False, random_state=None,\n",
            "                       verbose=0, warm_start=False)\n",
            "confusion matrix\n",
            "[[ 0  7  4  0  4  0  5]\n",
            " [ 3 18 12  2 17  2 26]\n",
            " [ 1 20 22  0 12  0 25]\n",
            " [ 1 10  0  2  6  0  1]\n",
            " [ 2  5  3  0  2  0 41]\n",
            " [ 2  4  0  0  0  0  7]\n",
            " [ 1 17 15  3 44  1 19]]\n",
            "classification report\n",
            "              precision    recall  f1-score   support\n",
            "\n",
            "           1       0.00      0.00      0.00        20\n",
            "           2       0.22      0.23      0.22        80\n",
            "           3       0.39      0.28      0.32        80\n",
            "           4       0.29      0.10      0.15        20\n",
            "           5       0.02      0.04      0.03        53\n",
            "           6       0.00      0.00      0.00        13\n",
            "           7       0.15      0.19      0.17       100\n",
            "\n",
            "    accuracy                           0.17       366\n",
            "   macro avg       0.15      0.12      0.13       366\n",
            "weighted avg       0.20      0.17      0.18       366\n",
            "\n",
            "Accuracy : 0.172131\n"
          ],
          "name": "stdout"
        }
      ]
    }
  ]
}