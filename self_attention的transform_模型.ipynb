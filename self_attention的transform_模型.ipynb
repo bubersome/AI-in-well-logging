{
  "nbformat": 4,
  "nbformat_minor": 0,
  "metadata": {
    "accelerator": "GPU",
    "colab": {
      "name": "self attention的transform 模型.ipynb",
      "provenance": [],
      "collapsed_sections": [],
      "toc_visible": true,
      "authorship_tag": "ABX9TyMZWzzWgru6ncdaeuxPNJOo",
      "include_colab_link": true
    },
    "kernelspec": {
      "display_name": "Python 3",
      "name": "python3"
    }
  },
  "cells": [
    {
      "cell_type": "markdown",
      "metadata": {
        "id": "view-in-github",
        "colab_type": "text"
      },
      "source": [
        "<a href=\"https://colab.research.google.com/github/sunyingjian/AI-in-well-logging/blob/master/self_attention%E7%9A%84transform_%E6%A8%A1%E5%9E%8B.ipynb\" target=\"_parent\"><img src=\"https://colab.research.google.com/assets/colab-badge.svg\" alt=\"Open In Colab\"/></a>"
      ]
    },
    {
      "cell_type": "markdown",
      "metadata": {
        "id": "j0w8tg25YJ9h"
      },
      "source": [
        "[基于注意力的神经机器翻译](https://tensorflow.google.cn/tutorials/text/nmt_with_attention)"
      ]
    },
    {
      "cell_type": "markdown",
      "metadata": {
        "id": "4FG35ibvYm1J"
      },
      "source": [
        "#引入框架"
      ]
    },
    {
      "cell_type": "code",
      "metadata": {
        "id": "kGFJn6twGdPq",
        "outputId": "b4bf0a69-eeb8-4640-cb89-b290fd7b474e",
        "colab": {
          "base_uri": "https://localhost:8080/",
          "height": 1000
        }
      },
      "source": [
        "!pip install tf-nightly"
      ],
      "execution_count": 1,
      "outputs": [
        {
          "output_type": "stream",
          "text": [
            "Collecting tf-nightly\n",
            "\u001b[?25l  Downloading https://files.pythonhosted.org/packages/0e/ef/c7f8d2f2d7ce0376189a9afe4d80a1ba64810648079853fb18616b667aa2/tf_nightly-2.4.0.dev20201020-cp36-cp36m-manylinux2010_x86_64.whl (393.5MB)\n",
            "\u001b[K     |████████████████████████████████| 393.5MB 42kB/s \n",
            "\u001b[?25hRequirement already satisfied: absl-py~=0.10 in /usr/local/lib/python3.6/dist-packages (from tf-nightly) (0.10.0)\n",
            "Collecting protobuf~=3.13.0\n",
            "\u001b[?25l  Downloading https://files.pythonhosted.org/packages/30/79/510974552cebff2ba04038544799450defe75e96ea5f1675dbf72cc8744f/protobuf-3.13.0-cp36-cp36m-manylinux1_x86_64.whl (1.3MB)\n",
            "\u001b[K     |████████████████████████████████| 1.3MB 48.8MB/s \n",
            "\u001b[?25hCollecting tf-estimator-nightly~=2.4.0.dev\n",
            "\u001b[?25l  Downloading https://files.pythonhosted.org/packages/da/ad/cfa6ea50585126539188c4f1a4fea45aac67800b7b1c0c6e4ca96ab78e45/tf_estimator_nightly-2.4.0.dev2020102001-py2.py3-none-any.whl (461kB)\n",
            "\u001b[K     |████████████████████████████████| 471kB 55.7MB/s \n",
            "\u001b[?25hRequirement already satisfied: termcolor~=1.1.0 in /usr/local/lib/python3.6/dist-packages (from tf-nightly) (1.1.0)\n",
            "Requirement already satisfied: typing-extensions~=3.7.4 in /usr/local/lib/python3.6/dist-packages (from tf-nightly) (3.7.4.3)\n",
            "Requirement already satisfied: astunparse~=1.6.3 in /usr/local/lib/python3.6/dist-packages (from tf-nightly) (1.6.3)\n",
            "Requirement already satisfied: wrapt~=1.12.1 in /usr/local/lib/python3.6/dist-packages (from tf-nightly) (1.12.1)\n",
            "Collecting tb-nightly~=2.4.0.a\n",
            "\u001b[?25l  Downloading https://files.pythonhosted.org/packages/e0/0d/7854899c211d00e9b110220740733fcbdb5c4bd61e96d153601b2d6045ea/tb_nightly-2.4.0a20201020-py3-none-any.whl (10.6MB)\n",
            "\u001b[K     |████████████████████████████████| 10.6MB 46.6MB/s \n",
            "\u001b[?25hRequirement already satisfied: grpcio~=1.32.0 in /usr/local/lib/python3.6/dist-packages (from tf-nightly) (1.32.0)\n",
            "Collecting numpy~=1.19.2\n",
            "\u001b[?25l  Downloading https://files.pythonhosted.org/packages/63/97/af8a92864a04bfa48f1b5c9b1f8bf2ccb2847f24530026f26dd223de4ca0/numpy-1.19.2-cp36-cp36m-manylinux2010_x86_64.whl (14.5MB)\n",
            "\u001b[K     |████████████████████████████████| 14.5MB 239kB/s \n",
            "\u001b[?25hRequirement already satisfied: six~=1.15.0 in /usr/local/lib/python3.6/dist-packages (from tf-nightly) (1.15.0)\n",
            "Requirement already satisfied: keras-preprocessing~=1.1.2 in /usr/local/lib/python3.6/dist-packages (from tf-nightly) (1.1.2)\n",
            "Requirement already satisfied: gast==0.3.3 in /usr/local/lib/python3.6/dist-packages (from tf-nightly) (0.3.3)\n",
            "Collecting flatbuffers~=1.12.0\n",
            "  Downloading https://files.pythonhosted.org/packages/eb/26/712e578c5f14e26ae3314c39a1bdc4eb2ec2f4ddc89b708cf8e0a0d20423/flatbuffers-1.12-py2.py3-none-any.whl\n",
            "Requirement already satisfied: h5py~=2.10.0 in /usr/local/lib/python3.6/dist-packages (from tf-nightly) (2.10.0)\n",
            "Requirement already satisfied: wheel~=0.35 in /usr/local/lib/python3.6/dist-packages (from tf-nightly) (0.35.1)\n",
            "Requirement already satisfied: google-pasta~=0.2 in /usr/local/lib/python3.6/dist-packages (from tf-nightly) (0.2.0)\n",
            "Requirement already satisfied: opt-einsum~=3.3.0 in /usr/local/lib/python3.6/dist-packages (from tf-nightly) (3.3.0)\n",
            "Requirement already satisfied: setuptools in /usr/local/lib/python3.6/dist-packages (from protobuf~=3.13.0->tf-nightly) (50.3.0)\n",
            "Requirement already satisfied: google-auth<2,>=1.6.3 in /usr/local/lib/python3.6/dist-packages (from tb-nightly~=2.4.0.a->tf-nightly) (1.17.2)\n",
            "Requirement already satisfied: werkzeug>=0.11.15 in /usr/local/lib/python3.6/dist-packages (from tb-nightly~=2.4.0.a->tf-nightly) (1.0.1)\n",
            "Requirement already satisfied: requests<3,>=2.21.0 in /usr/local/lib/python3.6/dist-packages (from tb-nightly~=2.4.0.a->tf-nightly) (2.23.0)\n",
            "Requirement already satisfied: markdown>=2.6.8 in /usr/local/lib/python3.6/dist-packages (from tb-nightly~=2.4.0.a->tf-nightly) (3.2.2)\n",
            "Requirement already satisfied: tensorboard-plugin-wit>=1.6.0 in /usr/local/lib/python3.6/dist-packages (from tb-nightly~=2.4.0.a->tf-nightly) (1.7.0)\n",
            "Requirement already satisfied: google-auth-oauthlib<0.5,>=0.4.1 in /usr/local/lib/python3.6/dist-packages (from tb-nightly~=2.4.0.a->tf-nightly) (0.4.1)\n",
            "Requirement already satisfied: pyasn1-modules>=0.2.1 in /usr/local/lib/python3.6/dist-packages (from google-auth<2,>=1.6.3->tb-nightly~=2.4.0.a->tf-nightly) (0.2.8)\n",
            "Requirement already satisfied: rsa<5,>=3.1.4; python_version >= \"3\" in /usr/local/lib/python3.6/dist-packages (from google-auth<2,>=1.6.3->tb-nightly~=2.4.0.a->tf-nightly) (4.6)\n",
            "Requirement already satisfied: cachetools<5.0,>=2.0.0 in /usr/local/lib/python3.6/dist-packages (from google-auth<2,>=1.6.3->tb-nightly~=2.4.0.a->tf-nightly) (4.1.1)\n",
            "Requirement already satisfied: idna<3,>=2.5 in /usr/local/lib/python3.6/dist-packages (from requests<3,>=2.21.0->tb-nightly~=2.4.0.a->tf-nightly) (2.10)\n",
            "Requirement already satisfied: certifi>=2017.4.17 in /usr/local/lib/python3.6/dist-packages (from requests<3,>=2.21.0->tb-nightly~=2.4.0.a->tf-nightly) (2020.6.20)\n",
            "Requirement already satisfied: urllib3!=1.25.0,!=1.25.1,<1.26,>=1.21.1 in /usr/local/lib/python3.6/dist-packages (from requests<3,>=2.21.0->tb-nightly~=2.4.0.a->tf-nightly) (1.24.3)\n",
            "Requirement already satisfied: chardet<4,>=3.0.2 in /usr/local/lib/python3.6/dist-packages (from requests<3,>=2.21.0->tb-nightly~=2.4.0.a->tf-nightly) (3.0.4)\n",
            "Requirement already satisfied: importlib-metadata; python_version < \"3.8\" in /usr/local/lib/python3.6/dist-packages (from markdown>=2.6.8->tb-nightly~=2.4.0.a->tf-nightly) (2.0.0)\n",
            "Requirement already satisfied: requests-oauthlib>=0.7.0 in /usr/local/lib/python3.6/dist-packages (from google-auth-oauthlib<0.5,>=0.4.1->tb-nightly~=2.4.0.a->tf-nightly) (1.3.0)\n",
            "Requirement already satisfied: pyasn1<0.5.0,>=0.4.6 in /usr/local/lib/python3.6/dist-packages (from pyasn1-modules>=0.2.1->google-auth<2,>=1.6.3->tb-nightly~=2.4.0.a->tf-nightly) (0.4.8)\n",
            "Requirement already satisfied: zipp>=0.5 in /usr/local/lib/python3.6/dist-packages (from importlib-metadata; python_version < \"3.8\"->markdown>=2.6.8->tb-nightly~=2.4.0.a->tf-nightly) (3.2.0)\n",
            "Requirement already satisfied: oauthlib>=3.0.0 in /usr/local/lib/python3.6/dist-packages (from requests-oauthlib>=0.7.0->google-auth-oauthlib<0.5,>=0.4.1->tb-nightly~=2.4.0.a->tf-nightly) (3.1.0)\n",
            "\u001b[31mERROR: tensorflow 2.3.0 has requirement numpy<1.19.0,>=1.16.0, but you'll have numpy 1.19.2 which is incompatible.\u001b[0m\n",
            "\u001b[31mERROR: datascience 0.10.6 has requirement folium==0.2.1, but you'll have folium 0.8.3 which is incompatible.\u001b[0m\n",
            "\u001b[31mERROR: albumentations 0.1.12 has requirement imgaug<0.2.7,>=0.2.5, but you'll have imgaug 0.2.9 which is incompatible.\u001b[0m\n",
            "Installing collected packages: protobuf, tf-estimator-nightly, numpy, tb-nightly, flatbuffers, tf-nightly\n",
            "  Found existing installation: protobuf 3.12.4\n",
            "    Uninstalling protobuf-3.12.4:\n",
            "      Successfully uninstalled protobuf-3.12.4\n",
            "  Found existing installation: numpy 1.18.5\n",
            "    Uninstalling numpy-1.18.5:\n",
            "      Successfully uninstalled numpy-1.18.5\n",
            "Successfully installed flatbuffers-1.12 numpy-1.19.2 protobuf-3.13.0 tb-nightly-2.4.0a20201020 tf-estimator-nightly-2.4.0.dev2020102001 tf-nightly-2.4.0.dev20201020\n"
          ],
          "name": "stdout"
        },
        {
          "output_type": "display_data",
          "data": {
            "application/vnd.colab-display-data+json": {
              "pip_warning": {
                "packages": [
                  "google",
                  "numpy"
                ]
              }
            }
          },
          "metadata": {
            "tags": []
          }
        }
      ]
    },
    {
      "cell_type": "code",
      "metadata": {
        "id": "22ajwpJ2SSUf",
        "outputId": "ff1f0b4c-a6ba-4981-bfe0-90611919de3e",
        "colab": {
          "base_uri": "https://localhost:8080/",
          "height": 163
        }
      },
      "source": [
        "!git clone https://github.com/sunyingjian/numpy-.git"
      ],
      "execution_count": 1,
      "outputs": [
        {
          "output_type": "stream",
          "text": [
            "Cloning into 'numpy-'...\n",
            "remote: Enumerating objects: 23, done.\u001b[K\n",
            "remote: Counting objects: 100% (23/23), done.\u001b[K\n",
            "remote: Compressing objects: 100% (23/23), done.\u001b[K\n",
            "remote: Total 347 (delta 1), reused 0 (delta 0), pack-reused 324\u001b[K\n",
            "Receiving objects: 100% (347/347), 201.75 MiB | 23.51 MiB/s, done.\n",
            "Resolving deltas: 100% (81/81), done.\n",
            "Checking out files: 100% (190/190), done.\n"
          ],
          "name": "stdout"
        }
      ]
    },
    {
      "cell_type": "code",
      "metadata": {
        "id": "oBpXzRbgPuvx"
      },
      "source": [
        "import tensorflow as tf\n",
        "\n",
        "import matplotlib.pyplot as plt\n",
        "import matplotlib.ticker as ticker\n",
        "from sklearn.model_selection import train_test_split\n",
        "\n",
        "import unicodedata\n",
        "import re\n",
        "import numpy as np\n",
        "import os\n",
        "import io\n",
        "import time"
      ],
      "execution_count": 2,
      "outputs": []
    },
    {
      "cell_type": "markdown",
      "metadata": {
        "id": "JbZ80eVEYriz"
      },
      "source": [
        "#导入数据"
      ]
    },
    {
      "cell_type": "code",
      "metadata": {
        "id": "-WfAHoXeY6ok",
        "outputId": "327fc4c6-9397-4dd7-cb41-36e817744cbe",
        "colab": {
          "base_uri": "https://localhost:8080/",
          "height": 419
        }
      },
      "source": [
        "%matplotlib inline\n",
        "#%matplotlib inline 可以在Ipython编译器里直接使用，功能是可以内嵌绘图，并且可以省略掉plt.show()这一步。\n",
        "import pandas as pd\n",
        "import numpy as np\n",
        "import matplotlib as mpl\n",
        "import matplotlib.pyplot as plt\n",
        "import tensorflow as tf\n",
        "import tensorflow_addons as tfa\n",
        "import matplotlib.colors as colors\n",
        "from mpl_toolkits.axes_grid1 import make_axes_locatable\n",
        "from pandas import set_option\n",
        "set_option(\"display.max_rows\", 10)#设置要显示的默认行数，显示的最大行数是10\n",
        "pd.options.mode.chained_assignment = None #为了在增加列表行数的时候防止出现setting with copy warning\n",
        "training_data = pd.read_csv('/content/numpy-/3345train data.csv')\n",
        "training_data\n",
        "testing_data = pd.read_csv('/content/numpy-/3345test_data.csv')\n",
        "testing_data"
      ],
      "execution_count": 3,
      "outputs": [
        {
          "output_type": "execute_result",
          "data": {
            "text/html": [
              "<div>\n",
              "<style scoped>\n",
              "    .dataframe tbody tr th:only-of-type {\n",
              "        vertical-align: middle;\n",
              "    }\n",
              "\n",
              "    .dataframe tbody tr th {\n",
              "        vertical-align: top;\n",
              "    }\n",
              "\n",
              "    .dataframe thead th {\n",
              "        text-align: right;\n",
              "    }\n",
              "</style>\n",
              "<table border=\"1\" class=\"dataframe\">\n",
              "  <thead>\n",
              "    <tr style=\"text-align: right;\">\n",
              "      <th></th>\n",
              "      <th>AC</th>\n",
              "      <th>CAL</th>\n",
              "      <th>GR</th>\n",
              "      <th>K</th>\n",
              "      <th>RD</th>\n",
              "      <th>SP</th>\n",
              "      <th>Core Lithology</th>\n",
              "    </tr>\n",
              "  </thead>\n",
              "  <tbody>\n",
              "    <tr>\n",
              "      <th>0</th>\n",
              "      <td>0.038756</td>\n",
              "      <td>0.026970</td>\n",
              "      <td>0.094776</td>\n",
              "      <td>0.112543</td>\n",
              "      <td>0.001420</td>\n",
              "      <td>0.614504</td>\n",
              "      <td>5</td>\n",
              "    </tr>\n",
              "    <tr>\n",
              "      <th>1</th>\n",
              "      <td>0.347382</td>\n",
              "      <td>0.090194</td>\n",
              "      <td>0.145150</td>\n",
              "      <td>0.202335</td>\n",
              "      <td>0.002744</td>\n",
              "      <td>0.339568</td>\n",
              "      <td>7</td>\n",
              "    </tr>\n",
              "    <tr>\n",
              "      <th>2</th>\n",
              "      <td>0.218400</td>\n",
              "      <td>0.059510</td>\n",
              "      <td>0.252165</td>\n",
              "      <td>0.711295</td>\n",
              "      <td>0.003874</td>\n",
              "      <td>0.918567</td>\n",
              "      <td>3</td>\n",
              "    </tr>\n",
              "    <tr>\n",
              "      <th>3</th>\n",
              "      <td>0.366064</td>\n",
              "      <td>0.082147</td>\n",
              "      <td>0.149304</td>\n",
              "      <td>0.201731</td>\n",
              "      <td>0.003290</td>\n",
              "      <td>0.343180</td>\n",
              "      <td>7</td>\n",
              "    </tr>\n",
              "    <tr>\n",
              "      <th>4</th>\n",
              "      <td>0.291877</td>\n",
              "      <td>0.079981</td>\n",
              "      <td>0.141782</td>\n",
              "      <td>0.289309</td>\n",
              "      <td>0.003455</td>\n",
              "      <td>0.344605</td>\n",
              "      <td>7</td>\n",
              "    </tr>\n",
              "    <tr>\n",
              "      <th>...</th>\n",
              "      <td>...</td>\n",
              "      <td>...</td>\n",
              "      <td>...</td>\n",
              "      <td>...</td>\n",
              "      <td>...</td>\n",
              "      <td>...</td>\n",
              "      <td>...</td>\n",
              "    </tr>\n",
              "    <tr>\n",
              "      <th>361</th>\n",
              "      <td>0.016947</td>\n",
              "      <td>0.138827</td>\n",
              "      <td>0.118400</td>\n",
              "      <td>0.358567</td>\n",
              "      <td>0.281687</td>\n",
              "      <td>0.302936</td>\n",
              "      <td>6</td>\n",
              "    </tr>\n",
              "    <tr>\n",
              "      <th>362</th>\n",
              "      <td>0.131043</td>\n",
              "      <td>0.069016</td>\n",
              "      <td>0.029354</td>\n",
              "      <td>0.060197</td>\n",
              "      <td>0.282093</td>\n",
              "      <td>0.253809</td>\n",
              "      <td>3</td>\n",
              "    </tr>\n",
              "    <tr>\n",
              "      <th>363</th>\n",
              "      <td>0.036182</td>\n",
              "      <td>0.032010</td>\n",
              "      <td>0.030090</td>\n",
              "      <td>0.071069</td>\n",
              "      <td>0.359737</td>\n",
              "      <td>0.435486</td>\n",
              "      <td>5</td>\n",
              "    </tr>\n",
              "    <tr>\n",
              "      <th>364</th>\n",
              "      <td>0.014562</td>\n",
              "      <td>0.127332</td>\n",
              "      <td>0.035014</td>\n",
              "      <td>0.178579</td>\n",
              "      <td>0.803566</td>\n",
              "      <td>0.311641</td>\n",
              "      <td>6</td>\n",
              "    </tr>\n",
              "    <tr>\n",
              "      <th>365</th>\n",
              "      <td>0.014427</td>\n",
              "      <td>0.134185</td>\n",
              "      <td>0.033460</td>\n",
              "      <td>0.186430</td>\n",
              "      <td>0.891134</td>\n",
              "      <td>0.311652</td>\n",
              "      <td>6</td>\n",
              "    </tr>\n",
              "  </tbody>\n",
              "</table>\n",
              "<p>366 rows × 7 columns</p>\n",
              "</div>"
            ],
            "text/plain": [
              "           AC       CAL        GR         K        RD        SP  Core Lithology\n",
              "0    0.038756  0.026970  0.094776  0.112543  0.001420  0.614504               5\n",
              "1    0.347382  0.090194  0.145150  0.202335  0.002744  0.339568               7\n",
              "2    0.218400  0.059510  0.252165  0.711295  0.003874  0.918567               3\n",
              "3    0.366064  0.082147  0.149304  0.201731  0.003290  0.343180               7\n",
              "4    0.291877  0.079981  0.141782  0.289309  0.003455  0.344605               7\n",
              "..        ...       ...       ...       ...       ...       ...             ...\n",
              "361  0.016947  0.138827  0.118400  0.358567  0.281687  0.302936               6\n",
              "362  0.131043  0.069016  0.029354  0.060197  0.282093  0.253809               3\n",
              "363  0.036182  0.032010  0.030090  0.071069  0.359737  0.435486               5\n",
              "364  0.014562  0.127332  0.035014  0.178579  0.803566  0.311641               6\n",
              "365  0.014427  0.134185  0.033460  0.186430  0.891134  0.311652               6\n",
              "\n",
              "[366 rows x 7 columns]"
            ]
          },
          "metadata": {
            "tags": []
          },
          "execution_count": 3
        }
      ]
    },
    {
      "cell_type": "markdown",
      "metadata": {
        "id": "onSZD5WCjQ4l"
      },
      "source": [
        "##数据预处理"
      ]
    },
    {
      "cell_type": "code",
      "metadata": {
        "id": "oFhOqmlkjUjL",
        "outputId": "f63ff676-1aa4-4da8-b6ac-e45118bd3de6",
        "colab": {
          "base_uri": "https://localhost:8080/",
          "height": 163
        }
      },
      "source": [
        "a = training_data['Core Lithology'].value_counts()\n",
        "a"
      ],
      "execution_count": 4,
      "outputs": [
        {
          "output_type": "execute_result",
          "data": {
            "text/plain": [
              "7    928\n",
              "3    751\n",
              "2    710\n",
              "5    482\n",
              "1    194\n",
              "4    166\n",
              "6    114\n",
              "Name: Core Lithology, dtype: int64"
            ]
          },
          "metadata": {
            "tags": []
          },
          "execution_count": 4
        }
      ]
    },
    {
      "cell_type": "code",
      "metadata": {
        "id": "SyJADagGkFNv"
      },
      "source": [
        "X_train = training_data.drop(columns='Core Lithology')\n",
        "y_train = training_data['Core Lithology'].values"
      ],
      "execution_count": 5,
      "outputs": []
    },
    {
      "cell_type": "code",
      "metadata": {
        "id": "AfyNLLPBjjQ5",
        "outputId": "196e18f5-771f-4a82-fcda-a21def92a20d",
        "colab": {
          "base_uri": "https://localhost:8080/",
          "height": 255
        }
      },
      "source": [
        "from imblearn.over_sampling import SMOTE\n",
        "from collections import Counter\n",
        "sm = SMOTE(sampling_strategy={5:700,1:700,4:700,6:700},random_state=24)\n",
        "X_train_sm, y_train_sm = sm.fit_sample(X_train, y_train)\n",
        "\n",
        "train_x_sm = pd.DataFrame(X_train_sm)\n",
        "train_y_sm = pd.DataFrame(y_train_sm)"
      ],
      "execution_count": 6,
      "outputs": [
        {
          "output_type": "stream",
          "text": [
            "/usr/local/lib/python3.6/dist-packages/sklearn/externals/six.py:31: FutureWarning: The module is deprecated in version 0.21 and will be removed in version 0.23 since we've dropped support for Python 2.7. Please rely on the official version of six (https://pypi.org/project/six/).\n",
            "  \"(https://pypi.org/project/six/).\", FutureWarning)\n",
            "/usr/local/lib/python3.6/dist-packages/sklearn/utils/deprecation.py:144: FutureWarning: The sklearn.neighbors.base module is  deprecated in version 0.22 and will be removed in version 0.24. The corresponding classes / functions should instead be imported from sklearn.neighbors. Anything that cannot be imported from sklearn.neighbors is now part of the private API.\n",
            "  warnings.warn(message, FutureWarning)\n",
            "/usr/local/lib/python3.6/dist-packages/sklearn/utils/deprecation.py:87: FutureWarning: Function safe_indexing is deprecated; safe_indexing is deprecated in version 0.22 and will be removed in version 0.24.\n",
            "  warnings.warn(msg, category=FutureWarning)\n",
            "/usr/local/lib/python3.6/dist-packages/sklearn/utils/deprecation.py:87: FutureWarning: Function safe_indexing is deprecated; safe_indexing is deprecated in version 0.22 and will be removed in version 0.24.\n",
            "  warnings.warn(msg, category=FutureWarning)\n",
            "/usr/local/lib/python3.6/dist-packages/sklearn/utils/deprecation.py:87: FutureWarning: Function safe_indexing is deprecated; safe_indexing is deprecated in version 0.22 and will be removed in version 0.24.\n",
            "  warnings.warn(msg, category=FutureWarning)\n",
            "/usr/local/lib/python3.6/dist-packages/sklearn/utils/deprecation.py:87: FutureWarning: Function safe_indexing is deprecated; safe_indexing is deprecated in version 0.22 and will be removed in version 0.24.\n",
            "  warnings.warn(msg, category=FutureWarning)\n"
          ],
          "name": "stderr"
        }
      ]
    },
    {
      "cell_type": "code",
      "metadata": {
        "id": "7MJ2cQ8qkV2g"
      },
      "source": [
        "train_x_sm['Core Lithology'] = y_train_sm\n",
        "training_data_sm = train_x_sm"
      ],
      "execution_count": 7,
      "outputs": []
    },
    {
      "cell_type": "markdown",
      "metadata": {
        "id": "SGLfJoBcjVQV"
      },
      "source": [
        "##设置步长"
      ]
    },
    {
      "cell_type": "code",
      "metadata": {
        "id": "SaNPx4jaS_Hm"
      },
      "source": [
        "seq_length = 6\n",
        "data_ = []\n",
        "for i in range(len(training_data_sm)-seq_length):\n",
        "  data_.append(training_data_sm.iloc[i:i+seq_length])"
      ],
      "execution_count": 103,
      "outputs": []
    },
    {
      "cell_type": "code",
      "metadata": {
        "id": "ve5jF18fTCOS",
        "outputId": "67c80cd4-ea67-48ae-f3cf-530c42deed22",
        "colab": {
          "base_uri": "https://localhost:8080/",
          "height": 35
        }
      },
      "source": [
        "len(data_)"
      ],
      "execution_count": 104,
      "outputs": [
        {
          "output_type": "execute_result",
          "data": {
            "text/plain": [
              "5183"
            ]
          },
          "metadata": {
            "tags": []
          },
          "execution_count": 104
        }
      ]
    },
    {
      "cell_type": "code",
      "metadata": {
        "id": "TELwconJTL4W"
      },
      "source": [
        "data_ = np.array([df.values for df in data_])"
      ],
      "execution_count": 105,
      "outputs": []
    },
    {
      "cell_type": "code",
      "metadata": {
        "id": "WzGqA7bBTO7H",
        "outputId": "ea9d89d7-9eb1-4301-c0d2-42d80d42e287",
        "colab": {
          "base_uri": "https://localhost:8080/",
          "height": 35
        }
      },
      "source": [
        "data_.shape"
      ],
      "execution_count": 106,
      "outputs": [
        {
          "output_type": "execute_result",
          "data": {
            "text/plain": [
              "(5183, 6, 7)"
            ]
          },
          "metadata": {
            "tags": []
          },
          "execution_count": 106
        }
      ]
    },
    {
      "cell_type": "code",
      "metadata": {
        "id": "oToBo6tFTRx6"
      },
      "source": [
        "np.random.shuffle(data_)"
      ],
      "execution_count": 107,
      "outputs": []
    },
    {
      "cell_type": "code",
      "metadata": {
        "id": "M3jZWN6wTUJq"
      },
      "source": [
        "train_x = data_[:,:,:6]"
      ],
      "execution_count": 108,
      "outputs": []
    },
    {
      "cell_type": "code",
      "metadata": {
        "id": "_CMYC4xOTWhh",
        "outputId": "41f7090c-74dd-4172-f4a6-16024073f521",
        "colab": {
          "base_uri": "https://localhost:8080/",
          "height": 35
        }
      },
      "source": [
        "train_x.shape"
      ],
      "execution_count": 109,
      "outputs": [
        {
          "output_type": "execute_result",
          "data": {
            "text/plain": [
              "(5183, 6, 6)"
            ]
          },
          "metadata": {
            "tags": []
          },
          "execution_count": 109
        }
      ]
    },
    {
      "cell_type": "code",
      "metadata": {
        "id": "AcIJPIPPTZZJ"
      },
      "source": [
        "train_y = data_[:,:,-1]"
      ],
      "execution_count": 110,
      "outputs": []
    },
    {
      "cell_type": "code",
      "metadata": {
        "id": "D3cSbFyyTepJ",
        "outputId": "eb30bb89-66bb-42b9-9fb8-c63dbd3fd8bf",
        "colab": {
          "base_uri": "https://localhost:8080/",
          "height": 35
        }
      },
      "source": [
        "train_y.shape"
      ],
      "execution_count": 111,
      "outputs": [
        {
          "output_type": "execute_result",
          "data": {
            "text/plain": [
              "(5183, 6)"
            ]
          },
          "metadata": {
            "tags": []
          },
          "execution_count": 111
        }
      ]
    },
    {
      "cell_type": "code",
      "metadata": {
        "id": "U5TG8WtWThbF"
      },
      "source": [
        "data_test = []\n",
        "for i in range(len(testing_data)-seq_length):\n",
        "  data_test.append(testing_data.iloc[i:i+seq_length])"
      ],
      "execution_count": 112,
      "outputs": []
    },
    {
      "cell_type": "code",
      "metadata": {
        "id": "aBwg0_PWTkES"
      },
      "source": [
        "data_test = np.array([df.values for df in data_test])"
      ],
      "execution_count": 113,
      "outputs": []
    },
    {
      "cell_type": "code",
      "metadata": {
        "id": "ccOvvvFsTl_U",
        "outputId": "04891976-50a4-47bd-9b65-f99d35b6adf5",
        "colab": {
          "base_uri": "https://localhost:8080/",
          "height": 35
        }
      },
      "source": [
        "data_test.shape"
      ],
      "execution_count": 114,
      "outputs": [
        {
          "output_type": "execute_result",
          "data": {
            "text/plain": [
              "(360, 6, 7)"
            ]
          },
          "metadata": {
            "tags": []
          },
          "execution_count": 114
        }
      ]
    },
    {
      "cell_type": "code",
      "metadata": {
        "id": "Vb1z64ovToAX",
        "outputId": "61130240-e827-4381-c6df-138cd8bddc80",
        "colab": {
          "base_uri": "https://localhost:8080/",
          "height": 35
        }
      },
      "source": [
        "test_x = data_test[:,:,:6]\n",
        "test_x.shape"
      ],
      "execution_count": 115,
      "outputs": [
        {
          "output_type": "execute_result",
          "data": {
            "text/plain": [
              "(360, 6, 6)"
            ]
          },
          "metadata": {
            "tags": []
          },
          "execution_count": 115
        }
      ]
    },
    {
      "cell_type": "code",
      "metadata": {
        "id": "9S9eC3eKTqS2"
      },
      "source": [
        "test_y = data_test[:,:,-1]"
      ],
      "execution_count": 116,
      "outputs": []
    },
    {
      "cell_type": "code",
      "metadata": {
        "id": "cflYpJ-7Tx9C"
      },
      "source": [
        "#独热编码\n",
        "test_y = test_y-1"
      ],
      "execution_count": 117,
      "outputs": []
    },
    {
      "cell_type": "code",
      "metadata": {
        "id": "cc5p1YI2T4ZM"
      },
      "source": [
        "train_y = train_y-1"
      ],
      "execution_count": 118,
      "outputs": []
    },
    {
      "cell_type": "code",
      "metadata": {
        "id": "0JCV3f_QT6Ym"
      },
      "source": [
        "train_y = tf.keras.utils.to_categorical(train_y,7)"
      ],
      "execution_count": 119,
      "outputs": []
    },
    {
      "cell_type": "code",
      "metadata": {
        "id": "474CfmYtT9kN"
      },
      "source": [
        "test_y = tf.keras.utils.to_categorical(test_y,7)"
      ],
      "execution_count": 120,
      "outputs": []
    },
    {
      "cell_type": "markdown",
      "metadata": {
        "id": "EfTmDtm_U2Jj"
      },
      "source": [
        "#transform"
      ]
    },
    {
      "cell_type": "code",
      "metadata": {
        "id": "78RlAB8vU9nZ"
      },
      "source": [
        "from tensorflow import keras\n",
        "import math\n",
        "import tensorflow_addons as tfa\n",
        "import tensorflow as tf"
      ],
      "execution_count": 121,
      "outputs": []
    },
    {
      "cell_type": "code",
      "metadata": {
        "id": "-a9v2AI6cvHI"
      },
      "source": [
        "input = tf.keras.Input(shape=(6,6))"
      ],
      "execution_count": 122,
      "outputs": []
    },
    {
      "cell_type": "code",
      "metadata": {
        "id": "Du2CZlAsL851"
      },
      "source": [
        "ainput = tf.keras.layers.LSTM(6,return_sequences=True)(input)\n",
        "x1 = tf.keras.layers.MultiHeadAttention(num_heads=6, key_dim=12, value_dim=None,dropout=0.5,kernel_regularizer='l2')(ainput,ainput)\n",
        "x1 = tf.keras.layers.MultiHeadAttention(num_heads=6, key_dim=24, value_dim=None,dropout=0.5,kernel_regularizer='l2')(x1,x1)\n",
        "x = tf.keras.layers.add([ainput,x1])\n",
        "x1 = tf.keras.layers.LayerNormalization()(x)\n",
        "x = tf.keras.layers.Dense(24,activation='relu')(x1)\n",
        "x = tf.keras.layers.Dense(6)(x)\n",
        "x = tf.keras.layers.add([x,x1])\n",
        "x = tf.keras.layers.LayerNormalization()(x)\n",
        "x1 = tf.keras.layers.MultiHeadAttention(num_heads=6, key_dim=24, value_dim=None,dropout=0.5,kernel_regularizer='l2')(x,x)\n",
        "x1 = tf.keras.layers.MultiHeadAttention(num_heads=6, key_dim=24, value_dim=None,dropout=0.5,kernel_regularizer='l2')(x1,x1)\n",
        "x = tf.keras.layers.add([x,x1])\n",
        "x1 = tf.keras.layers.LayerNormalization()(x)\n",
        "x = tf.keras.layers.Dense(24,activation='relu')(x1)\n",
        "x = tf.keras.layers.Dense(6)(x)\n",
        "x = tf.keras.layers.add([x,x1])\n",
        "x = tf.keras.layers.LayerNormalization()(x)\n",
        "x1 = tf.keras.layers.MultiHeadAttention(num_heads=6, key_dim=24, value_dim=None,dropout=0.5,kernel_regularizer='l2')(x,x)\n",
        "x1 = tf.keras.layers.MultiHeadAttention(num_heads=6, key_dim=24, value_dim=None,dropout=0.5,kernel_regularizer='l2')(x1,x1)\n",
        "x = tf.keras.layers.add([x,x1])\n",
        "x1 = tf.keras.layers.LayerNormalization()(x)\n",
        "x = tf.keras.layers.Dense(12,activation='relu')(x1)\n",
        "x = tf.keras.layers.Dense(6)(x)\n",
        "x = tf.keras.layers.add([x,x1])\n",
        "x = tf.keras.layers.LayerNormalization()(x)\n",
        "x = keras.layers.Dense(6,activation=\"linear\")(x)\n",
        "x = tf.keras.layers.TimeDistributed(tf.keras.layers.Dense(7,activation='softmax',kernel_regularizer='l2'))(x)\n",
        "model = tf.keras.Model(inputs = input, outputs = x)"
      ],
      "execution_count": 137,
      "outputs": []
    },
    {
      "cell_type": "code",
      "metadata": {
        "id": "qoXysMGXQhp9",
        "outputId": "e4d7de56-12a0-4277-a1b8-456ab57281ad",
        "colab": {
          "base_uri": "https://localhost:8080/",
          "height": 1000
        }
      },
      "source": [
        "model.summary()"
      ],
      "execution_count": 138,
      "outputs": [
        {
          "output_type": "stream",
          "text": [
            "Model: \"model_16\"\n",
            "__________________________________________________________________________________________________\n",
            "Layer (type)                    Output Shape         Param #     Connected to                     \n",
            "==================================================================================================\n",
            "input_4 (InputLayer)            [(None, 6, 6)]       0                                            \n",
            "__________________________________________________________________________________________________\n",
            "lstm_19 (LSTM)                  (None, 6, 6)         312         input_4[0][0]                    \n",
            "__________________________________________________________________________________________________\n",
            "multi_head_attention_49 (MultiH (None, 6, 6)         1950        lstm_19[0][0]                    \n",
            "                                                                 lstm_19[0][0]                    \n",
            "__________________________________________________________________________________________________\n",
            "multi_head_attention_50 (MultiH (None, 6, 6)         3894        multi_head_attention_49[0][0]    \n",
            "                                                                 multi_head_attention_49[0][0]    \n",
            "__________________________________________________________________________________________________\n",
            "add_92 (Add)                    (None, 6, 6)         0           lstm_19[0][0]                    \n",
            "                                                                 multi_head_attention_50[0][0]    \n",
            "__________________________________________________________________________________________________\n",
            "layer_normalization_89 (LayerNo (None, 6, 6)         12          add_92[0][0]                     \n",
            "__________________________________________________________________________________________________\n",
            "dense_124 (Dense)               (None, 6, 24)        168         layer_normalization_89[0][0]     \n",
            "__________________________________________________________________________________________________\n",
            "dense_125 (Dense)               (None, 6, 6)         150         dense_124[0][0]                  \n",
            "__________________________________________________________________________________________________\n",
            "add_93 (Add)                    (None, 6, 6)         0           dense_125[0][0]                  \n",
            "                                                                 layer_normalization_89[0][0]     \n",
            "__________________________________________________________________________________________________\n",
            "layer_normalization_90 (LayerNo (None, 6, 6)         12          add_93[0][0]                     \n",
            "__________________________________________________________________________________________________\n",
            "multi_head_attention_51 (MultiH (None, 6, 6)         3894        layer_normalization_90[0][0]     \n",
            "                                                                 layer_normalization_90[0][0]     \n",
            "__________________________________________________________________________________________________\n",
            "add_94 (Add)                    (None, 6, 6)         0           layer_normalization_90[0][0]     \n",
            "                                                                 multi_head_attention_51[0][0]    \n",
            "__________________________________________________________________________________________________\n",
            "layer_normalization_91 (LayerNo (None, 6, 6)         12          add_94[0][0]                     \n",
            "__________________________________________________________________________________________________\n",
            "dense_126 (Dense)               (None, 6, 24)        168         layer_normalization_91[0][0]     \n",
            "__________________________________________________________________________________________________\n",
            "dense_127 (Dense)               (None, 6, 6)         150         dense_126[0][0]                  \n",
            "__________________________________________________________________________________________________\n",
            "add_95 (Add)                    (None, 6, 6)         0           dense_127[0][0]                  \n",
            "                                                                 layer_normalization_91[0][0]     \n",
            "__________________________________________________________________________________________________\n",
            "layer_normalization_92 (LayerNo (None, 6, 6)         12          add_95[0][0]                     \n",
            "__________________________________________________________________________________________________\n",
            "multi_head_attention_52 (MultiH (None, 6, 6)         3894        layer_normalization_92[0][0]     \n",
            "                                                                 layer_normalization_92[0][0]     \n",
            "__________________________________________________________________________________________________\n",
            "add_96 (Add)                    (None, 6, 6)         0           layer_normalization_92[0][0]     \n",
            "                                                                 multi_head_attention_52[0][0]    \n",
            "__________________________________________________________________________________________________\n",
            "layer_normalization_93 (LayerNo (None, 6, 6)         12          add_96[0][0]                     \n",
            "__________________________________________________________________________________________________\n",
            "dense_128 (Dense)               (None, 6, 12)        84          layer_normalization_93[0][0]     \n",
            "__________________________________________________________________________________________________\n",
            "dense_129 (Dense)               (None, 6, 6)         78          dense_128[0][0]                  \n",
            "__________________________________________________________________________________________________\n",
            "add_97 (Add)                    (None, 6, 6)         0           dense_129[0][0]                  \n",
            "                                                                 layer_normalization_93[0][0]     \n",
            "__________________________________________________________________________________________________\n",
            "layer_normalization_94 (LayerNo (None, 6, 6)         12          add_97[0][0]                     \n",
            "__________________________________________________________________________________________________\n",
            "dense_130 (Dense)               (None, 6, 6)         42          layer_normalization_94[0][0]     \n",
            "__________________________________________________________________________________________________\n",
            "time_distributed_16 (TimeDistri (None, 6, 7)         49          dense_130[0][0]                  \n",
            "==================================================================================================\n",
            "Total params: 14,905\n",
            "Trainable params: 14,905\n",
            "Non-trainable params: 0\n",
            "__________________________________________________________________________________________________\n"
          ],
          "name": "stdout"
        }
      ]
    },
    {
      "cell_type": "code",
      "metadata": {
        "id": "aVgvxycqe5q0"
      },
      "source": [
        "#学习率衰减\n",
        "learning_rate=0.001\n",
        "def scheduler(epoch):\n",
        "  if epoch<=200:\n",
        "    learning_rate=0.001\n",
        "  elif epoch<=300:\n",
        "    learning_rate=0.0008\n",
        "  elif epoch<=400:\n",
        "    learning_rate=0.0006\n",
        "  else:\n",
        "    learning_rate=0.0005\n",
        "  return learning_rate\n",
        "  \n",
        "Lr_change=keras.callbacks.LearningRateScheduler(scheduler)\n",
        "#保存准确率最好的模型\n",
        "from keras.callbacks import ModelCheckpoint\n",
        "filepath=\"/content/drive/My Drive/best_weight.h5\"\n",
        "checkpoint = ModelCheckpoint(filepath, monitor='val_acc', verbose=1, save_best_only=True,mode='max')\n",
        "\n",
        "#Adam优化器\n",
        "Adam=keras.optimizers.Adam(learning_rate=learning_rate)\n",
        "model.compile(optimizer=Adam,loss='categorical_crossentropy',\n",
        "              metrics=['acc'])"
      ],
      "execution_count": 139,
      "outputs": []
    },
    {
      "cell_type": "code",
      "metadata": {
        "id": "uNUcTkfbWX5Q",
        "outputId": "6f5fbd03-7464-4f27-b795-dbc181f43572",
        "colab": {
          "base_uri": "https://localhost:8080/",
          "height": 1000
        }
      },
      "source": [
        "history=model.fit(train_x,train_y,batch_size=128 ,\n",
        "         epochs=600,\n",
        "         callbacks=[Lr_change,checkpoint],\n",
        "         validation_data=(test_x,test_y))"
      ],
      "execution_count": null,
      "outputs": [
        {
          "output_type": "stream",
          "text": [
            "Epoch 1/600\n",
            "41/41 [==============================] - 6s 52ms/step - loss: 3.3398 - acc: 0.1552 - val_loss: 2.7739 - val_acc: 0.2477\n",
            "\n",
            "Epoch 00001: val_acc improved from -inf to 0.24769, saving model to /content/drive/My Drive/best_weight.h5\n",
            "Epoch 2/600\n",
            "41/41 [==============================] - 1s 32ms/step - loss: 2.5664 - acc: 0.3178 - val_loss: 2.3730 - val_acc: 0.3236\n",
            "\n",
            "Epoch 00002: val_acc improved from 0.24769 to 0.32361, saving model to /content/drive/My Drive/best_weight.h5\n",
            "Epoch 3/600\n",
            "41/41 [==============================] - 1s 31ms/step - loss: 2.1199 - acc: 0.4038 - val_loss: 2.1566 - val_acc: 0.3134\n",
            "\n",
            "Epoch 00003: val_acc did not improve from 0.32361\n",
            "Epoch 4/600\n",
            "41/41 [==============================] - 1s 32ms/step - loss: 1.8686 - acc: 0.4450 - val_loss: 2.0197 - val_acc: 0.2866\n",
            "\n",
            "Epoch 00004: val_acc did not improve from 0.32361\n",
            "Epoch 5/600\n",
            "41/41 [==============================] - 1s 32ms/step - loss: 1.7129 - acc: 0.4635 - val_loss: 1.9323 - val_acc: 0.2843\n",
            "\n",
            "Epoch 00005: val_acc did not improve from 0.32361\n",
            "Epoch 6/600\n",
            "41/41 [==============================] - 1s 33ms/step - loss: 1.5933 - acc: 0.4884 - val_loss: 1.8554 - val_acc: 0.2949\n",
            "\n",
            "Epoch 00006: val_acc did not improve from 0.32361\n",
            "Epoch 7/600\n",
            "41/41 [==============================] - 1s 32ms/step - loss: 1.5139 - acc: 0.5047 - val_loss: 1.7961 - val_acc: 0.3171\n",
            "\n",
            "Epoch 00007: val_acc did not improve from 0.32361\n",
            "Epoch 8/600\n",
            "41/41 [==============================] - 1s 32ms/step - loss: 1.4559 - acc: 0.5152 - val_loss: 1.7787 - val_acc: 0.3005\n",
            "\n",
            "Epoch 00008: val_acc did not improve from 0.32361\n",
            "Epoch 9/600\n",
            "41/41 [==============================] - 1s 32ms/step - loss: 1.3951 - acc: 0.5424 - val_loss: 1.7535 - val_acc: 0.3190\n",
            "\n",
            "Epoch 00009: val_acc did not improve from 0.32361\n",
            "Epoch 10/600\n",
            "41/41 [==============================] - 1s 31ms/step - loss: 1.3300 - acc: 0.5709 - val_loss: 1.6708 - val_acc: 0.3611\n",
            "\n",
            "Epoch 00010: val_acc improved from 0.32361 to 0.36111, saving model to /content/drive/My Drive/best_weight.h5\n",
            "Epoch 11/600\n",
            "41/41 [==============================] - 1s 32ms/step - loss: 1.2955 - acc: 0.5795 - val_loss: 1.6930 - val_acc: 0.3579\n",
            "\n",
            "Epoch 00011: val_acc did not improve from 0.36111\n",
            "Epoch 12/600\n",
            "41/41 [==============================] - 1s 31ms/step - loss: 1.2542 - acc: 0.5867 - val_loss: 1.6995 - val_acc: 0.3653\n",
            "\n",
            "Epoch 00012: val_acc improved from 0.36111 to 0.36528, saving model to /content/drive/My Drive/best_weight.h5\n",
            "Epoch 13/600\n",
            "41/41 [==============================] - 1s 32ms/step - loss: 1.2206 - acc: 0.5954 - val_loss: 1.7251 - val_acc: 0.3648\n",
            "\n",
            "Epoch 00013: val_acc did not improve from 0.36528\n",
            "Epoch 14/600\n",
            "41/41 [==============================] - 1s 32ms/step - loss: 1.1970 - acc: 0.6014 - val_loss: 1.5401 - val_acc: 0.4532\n",
            "\n",
            "Epoch 00014: val_acc improved from 0.36528 to 0.45324, saving model to /content/drive/My Drive/best_weight.h5\n",
            "Epoch 15/600\n",
            "41/41 [==============================] - 1s 31ms/step - loss: 1.1806 - acc: 0.6094 - val_loss: 1.5819 - val_acc: 0.4231\n",
            "\n",
            "Epoch 00015: val_acc did not improve from 0.45324\n",
            "Epoch 16/600\n",
            "41/41 [==============================] - 1s 31ms/step - loss: 1.1573 - acc: 0.6138 - val_loss: 1.5784 - val_acc: 0.4440\n",
            "\n",
            "Epoch 00016: val_acc did not improve from 0.45324\n",
            "Epoch 17/600\n",
            "41/41 [==============================] - 1s 31ms/step - loss: 1.1287 - acc: 0.6242 - val_loss: 1.6046 - val_acc: 0.4116\n",
            "\n",
            "Epoch 00017: val_acc did not improve from 0.45324\n",
            "Epoch 18/600\n",
            "41/41 [==============================] - 1s 31ms/step - loss: 1.1092 - acc: 0.6289 - val_loss: 1.4964 - val_acc: 0.4708\n",
            "\n",
            "Epoch 00018: val_acc improved from 0.45324 to 0.47083, saving model to /content/drive/My Drive/best_weight.h5\n",
            "Epoch 19/600\n",
            "41/41 [==============================] - 1s 33ms/step - loss: 1.0714 - acc: 0.6415 - val_loss: 1.4950 - val_acc: 0.4755\n",
            "\n",
            "Epoch 00019: val_acc improved from 0.47083 to 0.47546, saving model to /content/drive/My Drive/best_weight.h5\n",
            "Epoch 20/600\n",
            "41/41 [==============================] - 1s 32ms/step - loss: 1.0637 - acc: 0.6380 - val_loss: 1.4055 - val_acc: 0.5157\n",
            "\n",
            "Epoch 00020: val_acc improved from 0.47546 to 0.51574, saving model to /content/drive/My Drive/best_weight.h5\n",
            "Epoch 21/600\n",
            "41/41 [==============================] - 1s 34ms/step - loss: 1.0503 - acc: 0.6426 - val_loss: 1.4002 - val_acc: 0.5287\n",
            "\n",
            "Epoch 00021: val_acc improved from 0.51574 to 0.52870, saving model to /content/drive/My Drive/best_weight.h5\n",
            "Epoch 22/600\n",
            "41/41 [==============================] - 1s 31ms/step - loss: 1.0097 - acc: 0.6570 - val_loss: 1.4192 - val_acc: 0.4917\n",
            "\n",
            "Epoch 00022: val_acc did not improve from 0.52870\n",
            "Epoch 23/600\n",
            "41/41 [==============================] - 1s 32ms/step - loss: 0.9978 - acc: 0.6600 - val_loss: 1.3475 - val_acc: 0.5338\n",
            "\n",
            "Epoch 00023: val_acc improved from 0.52870 to 0.53380, saving model to /content/drive/My Drive/best_weight.h5\n",
            "Epoch 24/600\n",
            "41/41 [==============================] - 1s 32ms/step - loss: 0.9958 - acc: 0.6608 - val_loss: 1.2936 - val_acc: 0.5611\n",
            "\n",
            "Epoch 00024: val_acc improved from 0.53380 to 0.56111, saving model to /content/drive/My Drive/best_weight.h5\n",
            "Epoch 25/600\n",
            "41/41 [==============================] - 1s 31ms/step - loss: 0.9879 - acc: 0.6565 - val_loss: 1.2875 - val_acc: 0.5477\n",
            "\n",
            "Epoch 00025: val_acc did not improve from 0.56111\n",
            "Epoch 26/600\n",
            "41/41 [==============================] - 1s 32ms/step - loss: 0.9744 - acc: 0.6677 - val_loss: 1.2591 - val_acc: 0.5745\n",
            "\n",
            "Epoch 00026: val_acc improved from 0.56111 to 0.57454, saving model to /content/drive/My Drive/best_weight.h5\n",
            "Epoch 27/600\n",
            "41/41 [==============================] - 1s 33ms/step - loss: 0.9588 - acc: 0.6671 - val_loss: 1.3021 - val_acc: 0.5292\n",
            "\n",
            "Epoch 00027: val_acc did not improve from 0.57454\n",
            "Epoch 28/600\n",
            "41/41 [==============================] - 1s 31ms/step - loss: 0.9437 - acc: 0.6703 - val_loss: 1.3092 - val_acc: 0.5412\n",
            "\n",
            "Epoch 00028: val_acc did not improve from 0.57454\n",
            "Epoch 29/600\n",
            "41/41 [==============================] - 1s 31ms/step - loss: 0.9334 - acc: 0.6738 - val_loss: 1.2907 - val_acc: 0.5616\n",
            "\n",
            "Epoch 00029: val_acc did not improve from 0.57454\n",
            "Epoch 30/600\n",
            "41/41 [==============================] - 1s 30ms/step - loss: 0.9236 - acc: 0.6748 - val_loss: 1.2053 - val_acc: 0.5810\n",
            "\n",
            "Epoch 00030: val_acc improved from 0.57454 to 0.58102, saving model to /content/drive/My Drive/best_weight.h5\n",
            "Epoch 31/600\n",
            "41/41 [==============================] - 1s 32ms/step - loss: 0.8973 - acc: 0.6870 - val_loss: 1.1986 - val_acc: 0.5838\n",
            "\n",
            "Epoch 00031: val_acc improved from 0.58102 to 0.58380, saving model to /content/drive/My Drive/best_weight.h5\n",
            "Epoch 32/600\n",
            "41/41 [==============================] - 1s 33ms/step - loss: 0.8940 - acc: 0.6835 - val_loss: 1.1885 - val_acc: 0.5843\n",
            "\n",
            "Epoch 00032: val_acc improved from 0.58380 to 0.58426, saving model to /content/drive/My Drive/best_weight.h5\n",
            "Epoch 33/600\n",
            "41/41 [==============================] - 1s 31ms/step - loss: 0.8748 - acc: 0.6938 - val_loss: 1.1808 - val_acc: 0.5819\n",
            "\n",
            "Epoch 00033: val_acc did not improve from 0.58426\n",
            "Epoch 34/600\n",
            "41/41 [==============================] - 1s 31ms/step - loss: 0.8771 - acc: 0.6970 - val_loss: 1.1740 - val_acc: 0.5926\n",
            "\n",
            "Epoch 00034: val_acc improved from 0.58426 to 0.59259, saving model to /content/drive/My Drive/best_weight.h5\n",
            "Epoch 35/600\n",
            "41/41 [==============================] - 1s 31ms/step - loss: 0.8680 - acc: 0.6952 - val_loss: 1.1703 - val_acc: 0.5912\n",
            "\n",
            "Epoch 00035: val_acc did not improve from 0.59259\n",
            "Epoch 36/600\n",
            "41/41 [==============================] - 1s 31ms/step - loss: 0.8709 - acc: 0.6935 - val_loss: 1.1649 - val_acc: 0.5829\n",
            "\n",
            "Epoch 00036: val_acc did not improve from 0.59259\n",
            "Epoch 37/600\n",
            "41/41 [==============================] - 1s 31ms/step - loss: 0.8504 - acc: 0.7049 - val_loss: 1.1116 - val_acc: 0.6116\n",
            "\n",
            "Epoch 00037: val_acc improved from 0.59259 to 0.61157, saving model to /content/drive/My Drive/best_weight.h5\n",
            "Epoch 38/600\n",
            "41/41 [==============================] - 1s 32ms/step - loss: 0.8350 - acc: 0.7098 - val_loss: 1.1150 - val_acc: 0.6097\n",
            "\n",
            "Epoch 00038: val_acc did not improve from 0.61157\n",
            "Epoch 39/600\n",
            "41/41 [==============================] - 1s 32ms/step - loss: 0.8426 - acc: 0.7046 - val_loss: 1.1222 - val_acc: 0.6157\n",
            "\n",
            "Epoch 00039: val_acc improved from 0.61157 to 0.61574, saving model to /content/drive/My Drive/best_weight.h5\n",
            "Epoch 40/600\n",
            "41/41 [==============================] - 1s 31ms/step - loss: 0.8351 - acc: 0.7078 - val_loss: 1.1259 - val_acc: 0.6065\n",
            "\n",
            "Epoch 00040: val_acc did not improve from 0.61574\n",
            "Epoch 41/600\n",
            "41/41 [==============================] - 1s 31ms/step - loss: 0.8166 - acc: 0.7143 - val_loss: 1.1126 - val_acc: 0.6153\n",
            "\n",
            "Epoch 00041: val_acc did not improve from 0.61574\n",
            "Epoch 42/600\n",
            "41/41 [==============================] - 1s 31ms/step - loss: 0.8009 - acc: 0.7227 - val_loss: 1.1082 - val_acc: 0.6301\n",
            "\n",
            "Epoch 00042: val_acc improved from 0.61574 to 0.63009, saving model to /content/drive/My Drive/best_weight.h5\n",
            "Epoch 43/600\n",
            "41/41 [==============================] - 1s 32ms/step - loss: 0.8007 - acc: 0.7184 - val_loss: 1.0920 - val_acc: 0.6167\n",
            "\n",
            "Epoch 00043: val_acc did not improve from 0.63009\n",
            "Epoch 44/600\n",
            "41/41 [==============================] - 1s 32ms/step - loss: 0.7818 - acc: 0.7326 - val_loss: 1.0596 - val_acc: 0.6537\n",
            "\n",
            "Epoch 00044: val_acc improved from 0.63009 to 0.65370, saving model to /content/drive/My Drive/best_weight.h5\n",
            "Epoch 45/600\n",
            "41/41 [==============================] - 1s 33ms/step - loss: 0.7781 - acc: 0.7344 - val_loss: 1.0401 - val_acc: 0.6519\n",
            "\n",
            "Epoch 00045: val_acc did not improve from 0.65370\n",
            "Epoch 46/600\n",
            "41/41 [==============================] - 1s 31ms/step - loss: 0.7748 - acc: 0.7350 - val_loss: 1.0579 - val_acc: 0.6491\n",
            "\n",
            "Epoch 00046: val_acc did not improve from 0.65370\n",
            "Epoch 47/600\n",
            "41/41 [==============================] - 1s 31ms/step - loss: 0.7691 - acc: 0.7402 - val_loss: 1.0616 - val_acc: 0.6519\n",
            "\n",
            "Epoch 00047: val_acc did not improve from 0.65370\n",
            "Epoch 48/600\n",
            "41/41 [==============================] - 1s 32ms/step - loss: 0.7531 - acc: 0.7428 - val_loss: 1.0997 - val_acc: 0.6370\n",
            "\n",
            "Epoch 00048: val_acc did not improve from 0.65370\n",
            "Epoch 49/600\n",
            "41/41 [==============================] - 1s 31ms/step - loss: 0.7497 - acc: 0.7439 - val_loss: 1.0374 - val_acc: 0.6583\n",
            "\n",
            "Epoch 00049: val_acc improved from 0.65370 to 0.65833, saving model to /content/drive/My Drive/best_weight.h5\n",
            "Epoch 50/600\n",
            "41/41 [==============================] - 1s 31ms/step - loss: 0.7483 - acc: 0.7484 - val_loss: 1.0504 - val_acc: 0.6468\n",
            "\n",
            "Epoch 00050: val_acc did not improve from 0.65833\n",
            "Epoch 51/600\n",
            "41/41 [==============================] - 1s 31ms/step - loss: 0.7429 - acc: 0.7480 - val_loss: 1.0570 - val_acc: 0.6458\n",
            "\n",
            "Epoch 00051: val_acc did not improve from 0.65833\n",
            "Epoch 52/600\n",
            "41/41 [==============================] - 1s 31ms/step - loss: 0.7181 - acc: 0.7597 - val_loss: 1.0492 - val_acc: 0.6546\n",
            "\n",
            "Epoch 00052: val_acc did not improve from 0.65833\n",
            "Epoch 53/600\n",
            "41/41 [==============================] - 1s 31ms/step - loss: 0.7345 - acc: 0.7504 - val_loss: 1.0308 - val_acc: 0.6718\n",
            "\n",
            "Epoch 00053: val_acc improved from 0.65833 to 0.67176, saving model to /content/drive/My Drive/best_weight.h5\n",
            "Epoch 54/600\n",
            "41/41 [==============================] - 1s 32ms/step - loss: 0.7164 - acc: 0.7584 - val_loss: 1.0650 - val_acc: 0.6449\n",
            "\n",
            "Epoch 00054: val_acc did not improve from 0.67176\n",
            "Epoch 55/600\n",
            "41/41 [==============================] - 1s 32ms/step - loss: 0.7047 - acc: 0.7620 - val_loss: 1.0511 - val_acc: 0.6481\n",
            "\n",
            "Epoch 00055: val_acc did not improve from 0.67176\n",
            "Epoch 56/600\n",
            "41/41 [==============================] - 1s 32ms/step - loss: 0.7045 - acc: 0.7615 - val_loss: 1.0538 - val_acc: 0.6560\n",
            "\n",
            "Epoch 00056: val_acc did not improve from 0.67176\n",
            "Epoch 57/600\n",
            "41/41 [==============================] - 1s 31ms/step - loss: 0.7044 - acc: 0.7594 - val_loss: 1.0277 - val_acc: 0.6597\n",
            "\n",
            "Epoch 00057: val_acc did not improve from 0.67176\n",
            "Epoch 58/600\n",
            "41/41 [==============================] - 1s 31ms/step - loss: 0.6821 - acc: 0.7678 - val_loss: 1.0416 - val_acc: 0.6532\n",
            "\n",
            "Epoch 00058: val_acc did not improve from 0.67176\n",
            "Epoch 59/600\n",
            "41/41 [==============================] - 1s 31ms/step - loss: 0.6767 - acc: 0.7707 - val_loss: 1.0114 - val_acc: 0.6736\n",
            "\n",
            "Epoch 00059: val_acc improved from 0.67176 to 0.67361, saving model to /content/drive/My Drive/best_weight.h5\n",
            "Epoch 60/600\n",
            "41/41 [==============================] - 1s 31ms/step - loss: 0.6821 - acc: 0.7690 - val_loss: 1.0489 - val_acc: 0.6542\n",
            "\n",
            "Epoch 00060: val_acc did not improve from 0.67361\n",
            "Epoch 61/600\n",
            "41/41 [==============================] - 1s 31ms/step - loss: 0.6757 - acc: 0.7698 - val_loss: 1.0225 - val_acc: 0.6685\n",
            "\n",
            "Epoch 00061: val_acc did not improve from 0.67361\n",
            "Epoch 62/600\n",
            "41/41 [==============================] - 1s 31ms/step - loss: 0.6818 - acc: 0.7662 - val_loss: 1.0070 - val_acc: 0.6787\n",
            "\n",
            "Epoch 00062: val_acc improved from 0.67361 to 0.67870, saving model to /content/drive/My Drive/best_weight.h5\n",
            "Epoch 63/600\n",
            "41/41 [==============================] - 1s 31ms/step - loss: 0.6879 - acc: 0.7685 - val_loss: 1.0375 - val_acc: 0.6639\n",
            "\n",
            "Epoch 00063: val_acc did not improve from 0.67870\n",
            "Epoch 64/600\n",
            "41/41 [==============================] - 1s 31ms/step - loss: 0.6692 - acc: 0.7755 - val_loss: 1.0414 - val_acc: 0.6644\n",
            "\n",
            "Epoch 00064: val_acc did not improve from 0.67870\n",
            "Epoch 65/600\n",
            "41/41 [==============================] - 1s 31ms/step - loss: 0.6562 - acc: 0.7791 - val_loss: 0.9949 - val_acc: 0.6722\n",
            "\n",
            "Epoch 00065: val_acc did not improve from 0.67870\n",
            "Epoch 66/600\n",
            "41/41 [==============================] - 1s 31ms/step - loss: 0.6681 - acc: 0.7755 - val_loss: 1.0064 - val_acc: 0.6644\n",
            "\n",
            "Epoch 00066: val_acc did not improve from 0.67870\n",
            "Epoch 67/600\n",
            "41/41 [==============================] - 1s 32ms/step - loss: 0.6548 - acc: 0.7799 - val_loss: 1.0258 - val_acc: 0.6431\n",
            "\n",
            "Epoch 00067: val_acc did not improve from 0.67870\n",
            "Epoch 68/600\n",
            "41/41 [==============================] - 1s 32ms/step - loss: 0.6600 - acc: 0.7776 - val_loss: 1.0141 - val_acc: 0.6616\n",
            "\n",
            "Epoch 00068: val_acc did not improve from 0.67870\n",
            "Epoch 69/600\n",
            "41/41 [==============================] - 1s 32ms/step - loss: 0.6459 - acc: 0.7813 - val_loss: 1.0255 - val_acc: 0.6505\n",
            "\n",
            "Epoch 00069: val_acc did not improve from 0.67870\n",
            "Epoch 70/600\n",
            "41/41 [==============================] - 1s 32ms/step - loss: 0.6445 - acc: 0.7850 - val_loss: 1.0079 - val_acc: 0.6611\n",
            "\n",
            "Epoch 00070: val_acc did not improve from 0.67870\n",
            "Epoch 71/600\n",
            "41/41 [==============================] - 1s 32ms/step - loss: 0.6460 - acc: 0.7831 - val_loss: 0.9752 - val_acc: 0.6778\n",
            "\n",
            "Epoch 00071: val_acc did not improve from 0.67870\n",
            "Epoch 72/600\n",
            "41/41 [==============================] - 1s 32ms/step - loss: 0.6522 - acc: 0.7779 - val_loss: 1.0678 - val_acc: 0.6333\n",
            "\n",
            "Epoch 00072: val_acc did not improve from 0.67870\n",
            "Epoch 73/600\n",
            "41/41 [==============================] - 1s 32ms/step - loss: 0.6538 - acc: 0.7790 - val_loss: 1.0123 - val_acc: 0.6583\n",
            "\n",
            "Epoch 00073: val_acc did not improve from 0.67870\n",
            "Epoch 74/600\n",
            "41/41 [==============================] - 1s 32ms/step - loss: 0.6478 - acc: 0.7788 - val_loss: 1.0989 - val_acc: 0.6264\n",
            "\n",
            "Epoch 00074: val_acc did not improve from 0.67870\n",
            "Epoch 75/600\n",
            "41/41 [==============================] - 1s 32ms/step - loss: 0.6532 - acc: 0.7786 - val_loss: 1.0349 - val_acc: 0.6380\n",
            "\n",
            "Epoch 00075: val_acc did not improve from 0.67870\n",
            "Epoch 76/600\n",
            "41/41 [==============================] - 1s 31ms/step - loss: 0.6288 - acc: 0.7887 - val_loss: 0.9940 - val_acc: 0.6731\n",
            "\n",
            "Epoch 00076: val_acc did not improve from 0.67870\n",
            "Epoch 77/600\n",
            "41/41 [==============================] - 1s 33ms/step - loss: 0.6289 - acc: 0.7891 - val_loss: 0.9455 - val_acc: 0.6861\n",
            "\n",
            "Epoch 00077: val_acc improved from 0.67870 to 0.68611, saving model to /content/drive/My Drive/best_weight.h5\n",
            "Epoch 78/600\n",
            "41/41 [==============================] - 1s 32ms/step - loss: 0.6226 - acc: 0.7902 - val_loss: 0.9697 - val_acc: 0.6954\n",
            "\n",
            "Epoch 00078: val_acc improved from 0.68611 to 0.69537, saving model to /content/drive/My Drive/best_weight.h5\n",
            "Epoch 79/600\n",
            "41/41 [==============================] - 1s 31ms/step - loss: 0.6140 - acc: 0.7921 - val_loss: 0.9993 - val_acc: 0.6792\n",
            "\n",
            "Epoch 00079: val_acc did not improve from 0.69537\n",
            "Epoch 80/600\n",
            "41/41 [==============================] - 1s 33ms/step - loss: 0.6237 - acc: 0.7850 - val_loss: 0.9687 - val_acc: 0.6727\n",
            "\n",
            "Epoch 00080: val_acc did not improve from 0.69537\n",
            "Epoch 81/600\n",
            "41/41 [==============================] - 1s 33ms/step - loss: 0.6123 - acc: 0.7918 - val_loss: 0.9920 - val_acc: 0.6653\n",
            "\n",
            "Epoch 00081: val_acc did not improve from 0.69537\n",
            "Epoch 82/600\n",
            "41/41 [==============================] - 1s 32ms/step - loss: 0.6256 - acc: 0.7843 - val_loss: 0.9602 - val_acc: 0.6903\n",
            "\n",
            "Epoch 00082: val_acc did not improve from 0.69537\n",
            "Epoch 83/600\n",
            "41/41 [==============================] - 1s 32ms/step - loss: 0.6184 - acc: 0.7884 - val_loss: 1.0052 - val_acc: 0.6630\n",
            "\n",
            "Epoch 00083: val_acc did not improve from 0.69537\n",
            "Epoch 84/600\n",
            "41/41 [==============================] - 1s 32ms/step - loss: 0.6209 - acc: 0.7864 - val_loss: 0.9286 - val_acc: 0.6898\n",
            "\n",
            "Epoch 00084: val_acc did not improve from 0.69537\n",
            "Epoch 85/600\n",
            "41/41 [==============================] - 1s 32ms/step - loss: 0.6083 - acc: 0.7950 - val_loss: 0.9377 - val_acc: 0.7009\n",
            "\n",
            "Epoch 00085: val_acc improved from 0.69537 to 0.70093, saving model to /content/drive/My Drive/best_weight.h5\n",
            "Epoch 86/600\n",
            "41/41 [==============================] - 1s 32ms/step - loss: 0.6064 - acc: 0.7934 - val_loss: 0.9827 - val_acc: 0.6722\n",
            "\n",
            "Epoch 00086: val_acc did not improve from 0.70093\n",
            "Epoch 87/600\n",
            "41/41 [==============================] - 1s 32ms/step - loss: 0.6065 - acc: 0.7946 - val_loss: 0.9301 - val_acc: 0.6847\n",
            "\n",
            "Epoch 00087: val_acc did not improve from 0.70093\n",
            "Epoch 88/600\n",
            "41/41 [==============================] - 1s 32ms/step - loss: 0.5998 - acc: 0.7967 - val_loss: 0.9811 - val_acc: 0.6856\n",
            "\n",
            "Epoch 00088: val_acc did not improve from 0.70093\n",
            "Epoch 89/600\n",
            "41/41 [==============================] - 1s 31ms/step - loss: 0.5982 - acc: 0.7918 - val_loss: 0.9955 - val_acc: 0.6593\n",
            "\n",
            "Epoch 00089: val_acc did not improve from 0.70093\n",
            "Epoch 90/600\n",
            "41/41 [==============================] - 1s 32ms/step - loss: 0.5923 - acc: 0.7971 - val_loss: 0.9762 - val_acc: 0.6722\n",
            "\n",
            "Epoch 00090: val_acc did not improve from 0.70093\n",
            "Epoch 91/600\n",
            "41/41 [==============================] - 1s 33ms/step - loss: 0.5948 - acc: 0.7986 - val_loss: 0.9415 - val_acc: 0.6972\n",
            "\n",
            "Epoch 00091: val_acc did not improve from 0.70093\n",
            "Epoch 92/600\n",
            "41/41 [==============================] - 1s 34ms/step - loss: 0.5874 - acc: 0.8024 - val_loss: 0.9431 - val_acc: 0.6944\n",
            "\n",
            "Epoch 00092: val_acc did not improve from 0.70093\n",
            "Epoch 93/600\n",
            "41/41 [==============================] - 1s 35ms/step - loss: 0.5884 - acc: 0.7973 - val_loss: 0.9538 - val_acc: 0.6963\n",
            "\n",
            "Epoch 00093: val_acc did not improve from 0.70093\n",
            "Epoch 94/600\n",
            "41/41 [==============================] - 1s 34ms/step - loss: 0.5789 - acc: 0.8037 - val_loss: 0.9794 - val_acc: 0.6949\n",
            "\n",
            "Epoch 00094: val_acc did not improve from 0.70093\n",
            "Epoch 95/600\n",
            "41/41 [==============================] - 2s 37ms/step - loss: 0.5834 - acc: 0.8018 - val_loss: 0.9589 - val_acc: 0.6884\n",
            "\n",
            "Epoch 00095: val_acc did not improve from 0.70093\n",
            "Epoch 96/600\n",
            "41/41 [==============================] - 1s 34ms/step - loss: 0.5766 - acc: 0.8047 - val_loss: 0.9624 - val_acc: 0.6838\n",
            "\n",
            "Epoch 00096: val_acc did not improve from 0.70093\n",
            "Epoch 97/600\n",
            "41/41 [==============================] - 1s 33ms/step - loss: 0.5758 - acc: 0.8046 - val_loss: 0.9696 - val_acc: 0.6806\n",
            "\n",
            "Epoch 00097: val_acc did not improve from 0.70093\n",
            "Epoch 98/600\n",
            "41/41 [==============================] - 1s 34ms/step - loss: 0.5802 - acc: 0.8019 - val_loss: 0.9585 - val_acc: 0.6815\n",
            "\n",
            "Epoch 00098: val_acc did not improve from 0.70093\n",
            "Epoch 99/600\n",
            "41/41 [==============================] - 1s 35ms/step - loss: 0.5816 - acc: 0.7983 - val_loss: 0.9393 - val_acc: 0.6912\n",
            "\n",
            "Epoch 00099: val_acc did not improve from 0.70093\n",
            "Epoch 100/600\n",
            "41/41 [==============================] - 1s 32ms/step - loss: 0.5783 - acc: 0.7999 - val_loss: 0.9509 - val_acc: 0.6736\n",
            "\n",
            "Epoch 00100: val_acc did not improve from 0.70093\n",
            "Epoch 101/600\n",
            "41/41 [==============================] - 1s 32ms/step - loss: 0.5822 - acc: 0.7990 - val_loss: 0.9619 - val_acc: 0.6722\n",
            "\n",
            "Epoch 00101: val_acc did not improve from 0.70093\n",
            "Epoch 102/600\n",
            "41/41 [==============================] - 1s 32ms/step - loss: 0.5847 - acc: 0.7988 - val_loss: 0.9057 - val_acc: 0.6977\n",
            "\n",
            "Epoch 00102: val_acc did not improve from 0.70093\n",
            "Epoch 103/600\n",
            "41/41 [==============================] - 1s 32ms/step - loss: 0.5662 - acc: 0.8034 - val_loss: 0.9302 - val_acc: 0.7023\n",
            "\n",
            "Epoch 00103: val_acc improved from 0.70093 to 0.70231, saving model to /content/drive/My Drive/best_weight.h5\n",
            "Epoch 104/600\n",
            "41/41 [==============================] - 1s 32ms/step - loss: 0.5565 - acc: 0.8089 - val_loss: 0.8893 - val_acc: 0.7079\n",
            "\n",
            "Epoch 00104: val_acc improved from 0.70231 to 0.70787, saving model to /content/drive/My Drive/best_weight.h5\n",
            "Epoch 105/600\n",
            "41/41 [==============================] - 1s 32ms/step - loss: 0.5774 - acc: 0.8066 - val_loss: 0.9139 - val_acc: 0.7019\n",
            "\n",
            "Epoch 00105: val_acc did not improve from 0.70787\n",
            "Epoch 106/600\n",
            "41/41 [==============================] - 1s 32ms/step - loss: 0.5638 - acc: 0.8108 - val_loss: 0.9432 - val_acc: 0.6856\n",
            "\n",
            "Epoch 00106: val_acc did not improve from 0.70787\n",
            "Epoch 107/600\n",
            "41/41 [==============================] - 1s 33ms/step - loss: 0.5714 - acc: 0.8033 - val_loss: 0.9668 - val_acc: 0.6741\n",
            "\n",
            "Epoch 00107: val_acc did not improve from 0.70787\n",
            "Epoch 108/600\n",
            "41/41 [==============================] - 1s 33ms/step - loss: 0.5457 - acc: 0.8141 - val_loss: 0.9040 - val_acc: 0.6852\n",
            "\n",
            "Epoch 00108: val_acc did not improve from 0.70787\n",
            "Epoch 109/600\n",
            "41/41 [==============================] - 1s 32ms/step - loss: 0.5529 - acc: 0.8127 - val_loss: 0.9089 - val_acc: 0.6931\n",
            "\n",
            "Epoch 00109: val_acc did not improve from 0.70787\n",
            "Epoch 110/600\n",
            "41/41 [==============================] - 1s 32ms/step - loss: 0.5524 - acc: 0.8115 - val_loss: 0.9201 - val_acc: 0.6917\n",
            "\n",
            "Epoch 00110: val_acc did not improve from 0.70787\n",
            "Epoch 111/600\n",
            "41/41 [==============================] - 1s 32ms/step - loss: 0.5491 - acc: 0.8149 - val_loss: 0.9034 - val_acc: 0.7097\n",
            "\n",
            "Epoch 00111: val_acc improved from 0.70787 to 0.70972, saving model to /content/drive/My Drive/best_weight.h5\n",
            "Epoch 112/600\n",
            "41/41 [==============================] - 1s 33ms/step - loss: 0.5505 - acc: 0.8150 - val_loss: 0.8890 - val_acc: 0.7028\n",
            "\n",
            "Epoch 00112: val_acc did not improve from 0.70972\n",
            "Epoch 113/600\n",
            "41/41 [==============================] - 1s 31ms/step - loss: 0.5522 - acc: 0.8129 - val_loss: 0.9249 - val_acc: 0.6875\n",
            "\n",
            "Epoch 00113: val_acc did not improve from 0.70972\n",
            "Epoch 114/600\n",
            "41/41 [==============================] - 1s 31ms/step - loss: 0.5578 - acc: 0.8099 - val_loss: 0.9481 - val_acc: 0.6907\n",
            "\n",
            "Epoch 00114: val_acc did not improve from 0.70972\n",
            "Epoch 115/600\n",
            "41/41 [==============================] - 1s 32ms/step - loss: 0.5508 - acc: 0.8155 - val_loss: 0.8891 - val_acc: 0.7037\n",
            "\n",
            "Epoch 00115: val_acc did not improve from 0.70972\n",
            "Epoch 116/600\n",
            "41/41 [==============================] - 1s 31ms/step - loss: 0.5426 - acc: 0.8155 - val_loss: 0.8813 - val_acc: 0.7042\n",
            "\n",
            "Epoch 00116: val_acc did not improve from 0.70972\n",
            "Epoch 117/600\n",
            "41/41 [==============================] - 1s 32ms/step - loss: 0.5491 - acc: 0.8138 - val_loss: 0.8930 - val_acc: 0.7065\n",
            "\n",
            "Epoch 00117: val_acc did not improve from 0.70972\n",
            "Epoch 118/600\n",
            "41/41 [==============================] - 1s 33ms/step - loss: 0.5492 - acc: 0.8144 - val_loss: 0.8998 - val_acc: 0.6944\n",
            "\n",
            "Epoch 00118: val_acc did not improve from 0.70972\n",
            "Epoch 119/600\n",
            "41/41 [==============================] - 1s 32ms/step - loss: 0.5407 - acc: 0.8180 - val_loss: 0.8865 - val_acc: 0.7083\n",
            "\n",
            "Epoch 00119: val_acc did not improve from 0.70972\n",
            "Epoch 120/600\n",
            "41/41 [==============================] - 1s 34ms/step - loss: 0.5459 - acc: 0.8125 - val_loss: 0.9027 - val_acc: 0.7120\n",
            "\n",
            "Epoch 00120: val_acc improved from 0.70972 to 0.71204, saving model to /content/drive/My Drive/best_weight.h5\n",
            "Epoch 121/600\n",
            "41/41 [==============================] - 1s 33ms/step - loss: 0.5335 - acc: 0.8196 - val_loss: 0.8796 - val_acc: 0.7167\n",
            "\n",
            "Epoch 00121: val_acc improved from 0.71204 to 0.71667, saving model to /content/drive/My Drive/best_weight.h5\n",
            "Epoch 122/600\n",
            "41/41 [==============================] - 1s 32ms/step - loss: 0.5257 - acc: 0.8204 - val_loss: 0.8947 - val_acc: 0.7065\n",
            "\n",
            "Epoch 00122: val_acc did not improve from 0.71667\n",
            "Epoch 123/600\n",
            "41/41 [==============================] - 1s 32ms/step - loss: 0.5211 - acc: 0.8264 - val_loss: 0.8840 - val_acc: 0.7032\n",
            "\n",
            "Epoch 00123: val_acc did not improve from 0.71667\n",
            "Epoch 124/600\n",
            "41/41 [==============================] - 1s 32ms/step - loss: 0.5220 - acc: 0.8254 - val_loss: 0.8980 - val_acc: 0.7181\n",
            "\n",
            "Epoch 00124: val_acc improved from 0.71667 to 0.71806, saving model to /content/drive/My Drive/best_weight.h5\n",
            "Epoch 125/600\n",
            "41/41 [==============================] - 1s 32ms/step - loss: 0.5271 - acc: 0.8242 - val_loss: 0.9160 - val_acc: 0.6838\n",
            "\n",
            "Epoch 00125: val_acc did not improve from 0.71806\n",
            "Epoch 126/600\n",
            "41/41 [==============================] - 1s 33ms/step - loss: 0.5375 - acc: 0.8141 - val_loss: 0.8926 - val_acc: 0.7042\n",
            "\n",
            "Epoch 00126: val_acc did not improve from 0.71806\n",
            "Epoch 127/600\n",
            "41/41 [==============================] - 1s 33ms/step - loss: 0.5241 - acc: 0.8241 - val_loss: 0.9078 - val_acc: 0.7009\n",
            "\n",
            "Epoch 00127: val_acc did not improve from 0.71806\n",
            "Epoch 128/600\n",
            "41/41 [==============================] - 1s 32ms/step - loss: 0.5237 - acc: 0.8228 - val_loss: 0.9403 - val_acc: 0.6833\n",
            "\n",
            "Epoch 00128: val_acc did not improve from 0.71806\n",
            "Epoch 129/600\n",
            "41/41 [==============================] - 1s 32ms/step - loss: 0.5429 - acc: 0.8136 - val_loss: 0.9177 - val_acc: 0.6972\n",
            "\n",
            "Epoch 00129: val_acc did not improve from 0.71806\n",
            "Epoch 130/600\n",
            "41/41 [==============================] - 1s 33ms/step - loss: 0.5208 - acc: 0.8231 - val_loss: 0.9226 - val_acc: 0.6986\n",
            "\n",
            "Epoch 00130: val_acc did not improve from 0.71806\n",
            "Epoch 131/600\n",
            "41/41 [==============================] - 1s 33ms/step - loss: 0.5127 - acc: 0.8279 - val_loss: 0.8958 - val_acc: 0.7074\n",
            "\n",
            "Epoch 00131: val_acc did not improve from 0.71806\n",
            "Epoch 132/600\n",
            "41/41 [==============================] - 1s 33ms/step - loss: 0.5168 - acc: 0.8293 - val_loss: 0.8502 - val_acc: 0.7255\n",
            "\n",
            "Epoch 00132: val_acc improved from 0.71806 to 0.72546, saving model to /content/drive/My Drive/best_weight.h5\n",
            "Epoch 133/600\n",
            "41/41 [==============================] - 1s 32ms/step - loss: 0.5213 - acc: 0.8228 - val_loss: 0.8694 - val_acc: 0.7014\n",
            "\n",
            "Epoch 00133: val_acc did not improve from 0.72546\n",
            "Epoch 134/600\n",
            "41/41 [==============================] - 1s 32ms/step - loss: 0.5218 - acc: 0.8261 - val_loss: 0.9368 - val_acc: 0.6940\n",
            "\n",
            "Epoch 00134: val_acc did not improve from 0.72546\n",
            "Epoch 135/600\n",
            "41/41 [==============================] - 1s 32ms/step - loss: 0.5270 - acc: 0.8211 - val_loss: 0.8317 - val_acc: 0.7287\n",
            "\n",
            "Epoch 00135: val_acc improved from 0.72546 to 0.72870, saving model to /content/drive/My Drive/best_weight.h5\n",
            "Epoch 136/600\n",
            "41/41 [==============================] - 1s 32ms/step - loss: 0.5371 - acc: 0.8197 - val_loss: 0.8392 - val_acc: 0.7097\n",
            "\n",
            "Epoch 00136: val_acc did not improve from 0.72870\n",
            "Epoch 137/600\n",
            "41/41 [==============================] - 1s 32ms/step - loss: 0.5262 - acc: 0.8212 - val_loss: 0.8666 - val_acc: 0.7190\n",
            "\n",
            "Epoch 00137: val_acc did not improve from 0.72870\n",
            "Epoch 138/600\n",
            "41/41 [==============================] - 1s 34ms/step - loss: 0.5246 - acc: 0.8221 - val_loss: 0.8491 - val_acc: 0.7111\n",
            "\n",
            "Epoch 00138: val_acc did not improve from 0.72870\n",
            "Epoch 139/600\n",
            "41/41 [==============================] - 1s 32ms/step - loss: 0.5165 - acc: 0.8252 - val_loss: 0.9182 - val_acc: 0.7019\n",
            "\n",
            "Epoch 00139: val_acc did not improve from 0.72870\n",
            "Epoch 140/600\n",
            "41/41 [==============================] - 1s 32ms/step - loss: 0.5142 - acc: 0.8274 - val_loss: 0.8522 - val_acc: 0.7227\n",
            "\n",
            "Epoch 00140: val_acc did not improve from 0.72870\n",
            "Epoch 141/600\n",
            "41/41 [==============================] - 1s 32ms/step - loss: 0.5114 - acc: 0.8252 - val_loss: 0.9280 - val_acc: 0.6991\n",
            "\n",
            "Epoch 00141: val_acc did not improve from 0.72870\n",
            "Epoch 142/600\n",
            "41/41 [==============================] - 1s 32ms/step - loss: 0.5306 - acc: 0.8212 - val_loss: 0.8793 - val_acc: 0.7088\n",
            "\n",
            "Epoch 00142: val_acc did not improve from 0.72870\n",
            "Epoch 143/600\n",
            "41/41 [==============================] - 1s 32ms/step - loss: 0.5049 - acc: 0.8307 - val_loss: 0.8721 - val_acc: 0.7167\n",
            "\n",
            "Epoch 00143: val_acc did not improve from 0.72870\n",
            "Epoch 144/600\n",
            "41/41 [==============================] - 1s 32ms/step - loss: 0.5057 - acc: 0.8299 - val_loss: 0.8783 - val_acc: 0.7093\n",
            "\n",
            "Epoch 00144: val_acc did not improve from 0.72870\n",
            "Epoch 145/600\n",
            "41/41 [==============================] - 1s 31ms/step - loss: 0.4978 - acc: 0.8332 - val_loss: 0.9080 - val_acc: 0.6981\n",
            "\n",
            "Epoch 00145: val_acc did not improve from 0.72870\n",
            "Epoch 146/600\n",
            "41/41 [==============================] - 1s 32ms/step - loss: 0.5128 - acc: 0.8251 - val_loss: 0.8933 - val_acc: 0.7116\n",
            "\n",
            "Epoch 00146: val_acc did not improve from 0.72870\n",
            "Epoch 147/600\n",
            "41/41 [==============================] - 1s 32ms/step - loss: 0.5133 - acc: 0.8283 - val_loss: 0.9002 - val_acc: 0.7088\n",
            "\n",
            "Epoch 00147: val_acc did not improve from 0.72870\n",
            "Epoch 148/600\n",
            "41/41 [==============================] - 1s 33ms/step - loss: 0.5139 - acc: 0.8256 - val_loss: 0.9273 - val_acc: 0.7005\n",
            "\n",
            "Epoch 00148: val_acc did not improve from 0.72870\n",
            "Epoch 149/600\n",
            "41/41 [==============================] - 1s 32ms/step - loss: 0.5088 - acc: 0.8268 - val_loss: 0.8241 - val_acc: 0.7310\n",
            "\n",
            "Epoch 00149: val_acc improved from 0.72870 to 0.73102, saving model to /content/drive/My Drive/best_weight.h5\n",
            "Epoch 150/600\n",
            "41/41 [==============================] - 1s 32ms/step - loss: 0.4914 - acc: 0.8340 - val_loss: 0.8844 - val_acc: 0.7134\n",
            "\n",
            "Epoch 00150: val_acc did not improve from 0.73102\n",
            "Epoch 151/600\n",
            "41/41 [==============================] - 1s 32ms/step - loss: 0.5054 - acc: 0.8295 - val_loss: 0.8949 - val_acc: 0.7176\n",
            "\n",
            "Epoch 00151: val_acc did not improve from 0.73102\n",
            "Epoch 152/600\n",
            "41/41 [==============================] - 1s 31ms/step - loss: 0.4921 - acc: 0.8372 - val_loss: 0.8736 - val_acc: 0.7134\n",
            "\n",
            "Epoch 00152: val_acc did not improve from 0.73102\n",
            "Epoch 153/600\n",
            "41/41 [==============================] - 1s 32ms/step - loss: 0.4947 - acc: 0.8319 - val_loss: 0.8669 - val_acc: 0.7181\n",
            "\n",
            "Epoch 00153: val_acc did not improve from 0.73102\n",
            "Epoch 154/600\n",
            "41/41 [==============================] - 1s 32ms/step - loss: 0.4911 - acc: 0.8354 - val_loss: 0.8989 - val_acc: 0.7153\n",
            "\n",
            "Epoch 00154: val_acc did not improve from 0.73102\n",
            "Epoch 155/600\n",
            "41/41 [==============================] - 1s 32ms/step - loss: 0.4977 - acc: 0.8317 - val_loss: 0.8540 - val_acc: 0.7231\n",
            "\n",
            "Epoch 00155: val_acc did not improve from 0.73102\n",
            "Epoch 156/600\n",
            "41/41 [==============================] - 1s 32ms/step - loss: 0.5034 - acc: 0.8310 - val_loss: 0.8650 - val_acc: 0.7204\n",
            "\n",
            "Epoch 00156: val_acc did not improve from 0.73102\n",
            "Epoch 157/600\n",
            "41/41 [==============================] - 1s 32ms/step - loss: 0.5099 - acc: 0.8289 - val_loss: 0.8745 - val_acc: 0.7171\n",
            "\n",
            "Epoch 00157: val_acc did not improve from 0.73102\n",
            "Epoch 158/600\n",
            "41/41 [==============================] - 1s 31ms/step - loss: 0.5065 - acc: 0.8267 - val_loss: 0.8354 - val_acc: 0.7236\n",
            "\n",
            "Epoch 00158: val_acc did not improve from 0.73102\n",
            "Epoch 159/600\n",
            "41/41 [==============================] - 1s 33ms/step - loss: 0.4941 - acc: 0.8329 - val_loss: 0.8586 - val_acc: 0.7250\n",
            "\n",
            "Epoch 00159: val_acc did not improve from 0.73102\n",
            "Epoch 160/600\n",
            "41/41 [==============================] - 1s 32ms/step - loss: 0.4816 - acc: 0.8385 - val_loss: 0.8473 - val_acc: 0.7278\n",
            "\n",
            "Epoch 00160: val_acc did not improve from 0.73102\n",
            "Epoch 161/600\n",
            "41/41 [==============================] - 1s 32ms/step - loss: 0.5024 - acc: 0.8290 - val_loss: 0.8629 - val_acc: 0.7181\n",
            "\n",
            "Epoch 00161: val_acc did not improve from 0.73102\n",
            "Epoch 162/600\n",
            "41/41 [==============================] - 1s 33ms/step - loss: 0.4817 - acc: 0.8392 - val_loss: 0.8607 - val_acc: 0.7287\n",
            "\n",
            "Epoch 00162: val_acc did not improve from 0.73102\n",
            "Epoch 163/600\n",
            "37/41 [==========================>...] - ETA: 0s - loss: 0.4837 - acc: 0.8331"
          ],
          "name": "stdout"
        }
      ]
    },
    {
      "cell_type": "code",
      "metadata": {
        "id": "mLye9KQGpXo2",
        "outputId": "2137b9a2-7887-42f7-b506-097b88185f39",
        "colab": {
          "base_uri": "https://localhost:8080/",
          "height": 283
        }
      },
      "source": [
        "plt.plot(history.epoch,history.history.get('acc'),label='acc')\n",
        "plt.plot(history.epoch,history.history.get('val_acc'),label='val_acc')"
      ],
      "execution_count": 64,
      "outputs": [
        {
          "output_type": "execute_result",
          "data": {
            "text/plain": [
              "[<matplotlib.lines.Line2D at 0x7f63ae7e4278>]"
            ]
          },
          "metadata": {
            "tags": []
          },
          "execution_count": 64
        },
        {
          "output_type": "display_data",
          "data": {
            "image/png": "[encoded data removed]",
            "text/plain": [
              "<Figure size 432x288 with 1 Axes>"
            ]
          },
          "metadata": {
            "tags": [],
            "needs_background": "light"
          }
        }
      ]
    },
    {
      "cell_type": "code",
      "metadata": {
        "id": "RUrIo81XphFq",
        "outputId": "99a90681-60ad-4b93-d827-d0388a106e3d",
        "colab": {
          "base_uri": "https://localhost:8080/",
          "height": 283
        }
      },
      "source": [
        "plt.plot(history.epoch,history.history.get('loss'),label='loss')\n",
        "plt.plot(history.epoch,history.history.get('val_loss'),label='val_loss')"
      ],
      "execution_count": 65,
      "outputs": [
        {
          "output_type": "execute_result",
          "data": {
            "text/plain": [
              "[<matplotlib.lines.Line2D at 0x7f63d0298b70>]"
            ]
          },
          "metadata": {
            "tags": []
          },
          "execution_count": 65
        },
        {
          "output_type": "display_data",
          "data": {
            "image/png": "[encoded data removed]",
            "text/plain": [
              "<Figure size 432x288 with 1 Axes>"
            ]
          },
          "metadata": {
            "tags": [],
            "needs_background": "light"
          }
        }
      ]
    }
  ]
}